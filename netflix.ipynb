{
 "cells": [
  {
   "cell_type": "code",
   "execution_count": 1,
   "id": "94fac91a",
   "metadata": {
    "_cell_guid": "b1076dfc-b9ad-4769-8c92-a6c4dae69d19",
    "_uuid": "8f2839f25d086af736a60e9eeb907d3b93b6e0e5",
    "execution": {
     "iopub.execute_input": "2024-10-07T23:17:11.419684Z",
     "iopub.status.busy": "2024-10-07T23:17:11.419153Z",
     "iopub.status.idle": "2024-10-07T23:17:12.373290Z",
     "shell.execute_reply": "2024-10-07T23:17:12.371727Z"
    },
    "papermill": {
     "duration": 0.969651,
     "end_time": "2024-10-07T23:17:12.375896",
     "exception": false,
     "start_time": "2024-10-07T23:17:11.406245",
     "status": "completed"
    },
    "tags": []
   },
   "outputs": [
    {
     "name": "stdout",
     "output_type": "stream",
     "text": [
      "/kaggle/input/netflix-userbase-dataset/Netflix Userbase.csv\n"
     ]
    }
   ],
   "source": [
    "# This Python 3 environment comes with many helpful analytics libraries installed\n",
    "# It is defined by the kaggle/python Docker image: https://github.com/kaggle/docker-python\n",
    "# For example, here's several helpful packages to load\n",
    "\n",
    "import numpy as np # linear algebra\n",
    "import pandas as pd # data processing, CSV file I/O (e.g. pd.read_csv)\n",
    "\n",
    "# Input data files are available in the read-only \"../input/\" directory\n",
    "# For example, running this (by clicking run or pressing Shift+Enter) will list all files under the input directory\n",
    "\n",
    "import os\n",
    "for dirname, _, filenames in os.walk('/kaggle/input'):\n",
    "    for filename in filenames:\n",
    "        print(os.path.join(dirname, filename))\n",
    "\n",
    "# You can write up to 20GB to the current directory (/kaggle/working/) that gets preserved as output when you create a version using \"Save & Run All\" \n",
    "# You can also write temporary files to /kaggle/temp/, but they won't be saved outside of the current session"
   ]
  },
  {
   "cell_type": "code",
   "execution_count": 2,
   "id": "023ea775",
   "metadata": {
    "execution": {
     "iopub.execute_input": "2024-10-07T23:17:12.402028Z",
     "iopub.status.busy": "2024-10-07T23:17:12.400869Z",
     "iopub.status.idle": "2024-10-07T23:17:12.434166Z",
     "shell.execute_reply": "2024-10-07T23:17:12.433068Z"
    },
    "papermill": {
     "duration": 0.048863,
     "end_time": "2024-10-07T23:17:12.436815",
     "exception": false,
     "start_time": "2024-10-07T23:17:12.387952",
     "status": "completed"
    },
    "tags": []
   },
   "outputs": [],
   "source": [
    "import matplotlib.pyplot as plt\n",
    "\n",
    "\n",
    "df = pd.read_csv('/kaggle/input/netflix-userbase-dataset/Netflix Userbase.csv')"
   ]
  },
  {
   "cell_type": "code",
   "execution_count": 3,
   "id": "d0f8d244",
   "metadata": {
    "execution": {
     "iopub.execute_input": "2024-10-07T23:17:12.459631Z",
     "iopub.status.busy": "2024-10-07T23:17:12.458782Z",
     "iopub.status.idle": "2024-10-07T23:17:12.488370Z",
     "shell.execute_reply": "2024-10-07T23:17:12.487315Z"
    },
    "papermill": {
     "duration": 0.044099,
     "end_time": "2024-10-07T23:17:12.491299",
     "exception": false,
     "start_time": "2024-10-07T23:17:12.447200",
     "status": "completed"
    },
    "tags": []
   },
   "outputs": [
    {
     "data": {
      "text/html": [
       "<div>\n",
       "<style scoped>\n",
       "    .dataframe tbody tr th:only-of-type {\n",
       "        vertical-align: middle;\n",
       "    }\n",
       "\n",
       "    .dataframe tbody tr th {\n",
       "        vertical-align: top;\n",
       "    }\n",
       "\n",
       "    .dataframe thead th {\n",
       "        text-align: right;\n",
       "    }\n",
       "</style>\n",
       "<table border=\"1\" class=\"dataframe\">\n",
       "  <thead>\n",
       "    <tr style=\"text-align: right;\">\n",
       "      <th></th>\n",
       "      <th>User ID</th>\n",
       "      <th>Subscription Type</th>\n",
       "      <th>Monthly Revenue</th>\n",
       "      <th>Join Date</th>\n",
       "      <th>Last Payment Date</th>\n",
       "      <th>Country</th>\n",
       "      <th>Age</th>\n",
       "      <th>Gender</th>\n",
       "      <th>Device</th>\n",
       "      <th>Plan Duration</th>\n",
       "    </tr>\n",
       "  </thead>\n",
       "  <tbody>\n",
       "    <tr>\n",
       "      <th>0</th>\n",
       "      <td>1</td>\n",
       "      <td>Basic</td>\n",
       "      <td>10</td>\n",
       "      <td>15-01-22</td>\n",
       "      <td>10-06-23</td>\n",
       "      <td>United States</td>\n",
       "      <td>28</td>\n",
       "      <td>Male</td>\n",
       "      <td>Smartphone</td>\n",
       "      <td>1 Month</td>\n",
       "    </tr>\n",
       "    <tr>\n",
       "      <th>1</th>\n",
       "      <td>2</td>\n",
       "      <td>Premium</td>\n",
       "      <td>15</td>\n",
       "      <td>05-09-21</td>\n",
       "      <td>22-06-23</td>\n",
       "      <td>Canada</td>\n",
       "      <td>35</td>\n",
       "      <td>Female</td>\n",
       "      <td>Tablet</td>\n",
       "      <td>1 Month</td>\n",
       "    </tr>\n",
       "    <tr>\n",
       "      <th>2</th>\n",
       "      <td>3</td>\n",
       "      <td>Standard</td>\n",
       "      <td>12</td>\n",
       "      <td>28-02-23</td>\n",
       "      <td>27-06-23</td>\n",
       "      <td>United Kingdom</td>\n",
       "      <td>42</td>\n",
       "      <td>Male</td>\n",
       "      <td>Smart TV</td>\n",
       "      <td>1 Month</td>\n",
       "    </tr>\n",
       "    <tr>\n",
       "      <th>3</th>\n",
       "      <td>4</td>\n",
       "      <td>Standard</td>\n",
       "      <td>12</td>\n",
       "      <td>10-07-22</td>\n",
       "      <td>26-06-23</td>\n",
       "      <td>Australia</td>\n",
       "      <td>51</td>\n",
       "      <td>Female</td>\n",
       "      <td>Laptop</td>\n",
       "      <td>1 Month</td>\n",
       "    </tr>\n",
       "    <tr>\n",
       "      <th>4</th>\n",
       "      <td>5</td>\n",
       "      <td>Basic</td>\n",
       "      <td>10</td>\n",
       "      <td>01-05-23</td>\n",
       "      <td>28-06-23</td>\n",
       "      <td>Germany</td>\n",
       "      <td>33</td>\n",
       "      <td>Male</td>\n",
       "      <td>Smartphone</td>\n",
       "      <td>1 Month</td>\n",
       "    </tr>\n",
       "    <tr>\n",
       "      <th>...</th>\n",
       "      <td>...</td>\n",
       "      <td>...</td>\n",
       "      <td>...</td>\n",
       "      <td>...</td>\n",
       "      <td>...</td>\n",
       "      <td>...</td>\n",
       "      <td>...</td>\n",
       "      <td>...</td>\n",
       "      <td>...</td>\n",
       "      <td>...</td>\n",
       "    </tr>\n",
       "    <tr>\n",
       "      <th>2495</th>\n",
       "      <td>2496</td>\n",
       "      <td>Premium</td>\n",
       "      <td>14</td>\n",
       "      <td>25-07-22</td>\n",
       "      <td>12-07-23</td>\n",
       "      <td>Spain</td>\n",
       "      <td>28</td>\n",
       "      <td>Female</td>\n",
       "      <td>Smart TV</td>\n",
       "      <td>1 Month</td>\n",
       "    </tr>\n",
       "    <tr>\n",
       "      <th>2496</th>\n",
       "      <td>2497</td>\n",
       "      <td>Basic</td>\n",
       "      <td>15</td>\n",
       "      <td>04-08-22</td>\n",
       "      <td>14-07-23</td>\n",
       "      <td>Spain</td>\n",
       "      <td>33</td>\n",
       "      <td>Female</td>\n",
       "      <td>Smart TV</td>\n",
       "      <td>1 Month</td>\n",
       "    </tr>\n",
       "    <tr>\n",
       "      <th>2497</th>\n",
       "      <td>2498</td>\n",
       "      <td>Standard</td>\n",
       "      <td>12</td>\n",
       "      <td>09-08-22</td>\n",
       "      <td>15-07-23</td>\n",
       "      <td>United States</td>\n",
       "      <td>38</td>\n",
       "      <td>Male</td>\n",
       "      <td>Laptop</td>\n",
       "      <td>1 Month</td>\n",
       "    </tr>\n",
       "    <tr>\n",
       "      <th>2498</th>\n",
       "      <td>2499</td>\n",
       "      <td>Standard</td>\n",
       "      <td>13</td>\n",
       "      <td>12-08-22</td>\n",
       "      <td>12-07-23</td>\n",
       "      <td>Canada</td>\n",
       "      <td>48</td>\n",
       "      <td>Female</td>\n",
       "      <td>Tablet</td>\n",
       "      <td>1 Month</td>\n",
       "    </tr>\n",
       "    <tr>\n",
       "      <th>2499</th>\n",
       "      <td>2500</td>\n",
       "      <td>Basic</td>\n",
       "      <td>15</td>\n",
       "      <td>13-08-22</td>\n",
       "      <td>12-07-23</td>\n",
       "      <td>United States</td>\n",
       "      <td>35</td>\n",
       "      <td>Female</td>\n",
       "      <td>Smart TV</td>\n",
       "      <td>1 Month</td>\n",
       "    </tr>\n",
       "  </tbody>\n",
       "</table>\n",
       "<p>2500 rows × 10 columns</p>\n",
       "</div>"
      ],
      "text/plain": [
       "      User ID Subscription Type  Monthly Revenue Join Date Last Payment Date  \\\n",
       "0           1             Basic               10  15-01-22          10-06-23   \n",
       "1           2           Premium               15  05-09-21          22-06-23   \n",
       "2           3          Standard               12  28-02-23          27-06-23   \n",
       "3           4          Standard               12  10-07-22          26-06-23   \n",
       "4           5             Basic               10  01-05-23          28-06-23   \n",
       "...       ...               ...              ...       ...               ...   \n",
       "2495     2496           Premium               14  25-07-22          12-07-23   \n",
       "2496     2497             Basic               15  04-08-22          14-07-23   \n",
       "2497     2498          Standard               12  09-08-22          15-07-23   \n",
       "2498     2499          Standard               13  12-08-22          12-07-23   \n",
       "2499     2500             Basic               15  13-08-22          12-07-23   \n",
       "\n",
       "             Country  Age  Gender      Device Plan Duration  \n",
       "0      United States   28    Male  Smartphone       1 Month  \n",
       "1             Canada   35  Female      Tablet       1 Month  \n",
       "2     United Kingdom   42    Male    Smart TV       1 Month  \n",
       "3          Australia   51  Female      Laptop       1 Month  \n",
       "4            Germany   33    Male  Smartphone       1 Month  \n",
       "...              ...  ...     ...         ...           ...  \n",
       "2495           Spain   28  Female    Smart TV       1 Month  \n",
       "2496           Spain   33  Female    Smart TV       1 Month  \n",
       "2497   United States   38    Male      Laptop       1 Month  \n",
       "2498          Canada   48  Female      Tablet       1 Month  \n",
       "2499   United States   35  Female    Smart TV       1 Month  \n",
       "\n",
       "[2500 rows x 10 columns]"
      ]
     },
     "execution_count": 3,
     "metadata": {},
     "output_type": "execute_result"
    }
   ],
   "source": [
    "df"
   ]
  },
  {
   "cell_type": "code",
   "execution_count": 4,
   "id": "d8c3b364",
   "metadata": {
    "execution": {
     "iopub.execute_input": "2024-10-07T23:17:12.515875Z",
     "iopub.status.busy": "2024-10-07T23:17:12.514575Z",
     "iopub.status.idle": "2024-10-07T23:17:12.542181Z",
     "shell.execute_reply": "2024-10-07T23:17:12.541020Z"
    },
    "papermill": {
     "duration": 0.042411,
     "end_time": "2024-10-07T23:17:12.544688",
     "exception": false,
     "start_time": "2024-10-07T23:17:12.502277",
     "status": "completed"
    },
    "tags": []
   },
   "outputs": [
    {
     "name": "stdout",
     "output_type": "stream",
     "text": [
      "<class 'pandas.core.frame.DataFrame'>\n",
      "RangeIndex: 2500 entries, 0 to 2499\n",
      "Data columns (total 10 columns):\n",
      " #   Column             Non-Null Count  Dtype \n",
      "---  ------             --------------  ----- \n",
      " 0   User ID            2500 non-null   int64 \n",
      " 1   Subscription Type  2500 non-null   object\n",
      " 2   Monthly Revenue    2500 non-null   int64 \n",
      " 3   Join Date          2500 non-null   object\n",
      " 4   Last Payment Date  2500 non-null   object\n",
      " 5   Country            2500 non-null   object\n",
      " 6   Age                2500 non-null   int64 \n",
      " 7   Gender             2500 non-null   object\n",
      " 8   Device             2500 non-null   object\n",
      " 9   Plan Duration      2500 non-null   object\n",
      "dtypes: int64(3), object(7)\n",
      "memory usage: 195.4+ KB\n"
     ]
    }
   ],
   "source": [
    "df.info()"
   ]
  },
  {
   "cell_type": "code",
   "execution_count": 5,
   "id": "36e1384e",
   "metadata": {
    "execution": {
     "iopub.execute_input": "2024-10-07T23:17:12.568889Z",
     "iopub.status.busy": "2024-10-07T23:17:12.567809Z",
     "iopub.status.idle": "2024-10-07T23:17:12.579114Z",
     "shell.execute_reply": "2024-10-07T23:17:12.578052Z"
    },
    "papermill": {
     "duration": 0.025979,
     "end_time": "2024-10-07T23:17:12.581608",
     "exception": false,
     "start_time": "2024-10-07T23:17:12.555629",
     "status": "completed"
    },
    "tags": []
   },
   "outputs": [
    {
     "data": {
      "text/plain": [
       "User ID              0\n",
       "Subscription Type    0\n",
       "Monthly Revenue      0\n",
       "Join Date            0\n",
       "Last Payment Date    0\n",
       "Country              0\n",
       "Age                  0\n",
       "Gender               0\n",
       "Device               0\n",
       "Plan Duration        0\n",
       "dtype: int64"
      ]
     },
     "execution_count": 5,
     "metadata": {},
     "output_type": "execute_result"
    }
   ],
   "source": [
    "df.isnull().sum()"
   ]
  },
  {
   "cell_type": "code",
   "execution_count": 6,
   "id": "d43a4d9c",
   "metadata": {
    "execution": {
     "iopub.execute_input": "2024-10-07T23:17:12.605676Z",
     "iopub.status.busy": "2024-10-07T23:17:12.605264Z",
     "iopub.status.idle": "2024-10-07T23:17:12.617143Z",
     "shell.execute_reply": "2024-10-07T23:17:12.616032Z"
    },
    "papermill": {
     "duration": 0.026714,
     "end_time": "2024-10-07T23:17:12.619668",
     "exception": false,
     "start_time": "2024-10-07T23:17:12.592954",
     "status": "completed"
    },
    "tags": []
   },
   "outputs": [
    {
     "data": {
      "text/plain": [
       "0"
      ]
     },
     "execution_count": 6,
     "metadata": {},
     "output_type": "execute_result"
    }
   ],
   "source": [
    "df.duplicated().sum()"
   ]
  },
  {
   "cell_type": "code",
   "execution_count": 7,
   "id": "995420fc",
   "metadata": {
    "execution": {
     "iopub.execute_input": "2024-10-07T23:17:12.643858Z",
     "iopub.status.busy": "2024-10-07T23:17:12.643423Z",
     "iopub.status.idle": "2024-10-07T23:17:12.652881Z",
     "shell.execute_reply": "2024-10-07T23:17:12.651717Z"
    },
    "papermill": {
     "duration": 0.02455,
     "end_time": "2024-10-07T23:17:12.655364",
     "exception": false,
     "start_time": "2024-10-07T23:17:12.630814",
     "status": "completed"
    },
    "tags": []
   },
   "outputs": [
    {
     "data": {
      "text/plain": [
       "Gender\n",
       "Female    1257\n",
       "Male      1243\n",
       "Name: count, dtype: int64"
      ]
     },
     "execution_count": 7,
     "metadata": {},
     "output_type": "execute_result"
    }
   ],
   "source": [
    "df['Gender'].value_counts()"
   ]
  },
  {
   "cell_type": "code",
   "execution_count": 8,
   "id": "d66fa44d",
   "metadata": {
    "execution": {
     "iopub.execute_input": "2024-10-07T23:17:12.680336Z",
     "iopub.status.busy": "2024-10-07T23:17:12.679586Z",
     "iopub.status.idle": "2024-10-07T23:17:12.689904Z",
     "shell.execute_reply": "2024-10-07T23:17:12.688753Z"
    },
    "papermill": {
     "duration": 0.025285,
     "end_time": "2024-10-07T23:17:12.692306",
     "exception": false,
     "start_time": "2024-10-07T23:17:12.667021",
     "status": "completed"
    },
    "tags": []
   },
   "outputs": [
    {
     "data": {
      "text/plain": [
       "count       2500\n",
       "unique         2\n",
       "top       Female\n",
       "freq        1257\n",
       "Name: Gender, dtype: object"
      ]
     },
     "execution_count": 8,
     "metadata": {},
     "output_type": "execute_result"
    }
   ],
   "source": [
    "df['Gender'].describe()"
   ]
  },
  {
   "cell_type": "code",
   "execution_count": 9,
   "id": "17792405",
   "metadata": {
    "execution": {
     "iopub.execute_input": "2024-10-07T23:17:12.716733Z",
     "iopub.status.busy": "2024-10-07T23:17:12.716315Z",
     "iopub.status.idle": "2024-10-07T23:17:12.723307Z",
     "shell.execute_reply": "2024-10-07T23:17:12.722217Z"
    },
    "papermill": {
     "duration": 0.022113,
     "end_time": "2024-10-07T23:17:12.725698",
     "exception": false,
     "start_time": "2024-10-07T23:17:12.703585",
     "status": "completed"
    },
    "tags": []
   },
   "outputs": [],
   "source": [
    "df = df.rename(columns = {'Subscription Type': 'Sub_Type'})"
   ]
  },
  {
   "cell_type": "code",
   "execution_count": 10,
   "id": "aac15947",
   "metadata": {
    "execution": {
     "iopub.execute_input": "2024-10-07T23:17:12.750910Z",
     "iopub.status.busy": "2024-10-07T23:17:12.750443Z",
     "iopub.status.idle": "2024-10-07T23:17:13.033317Z",
     "shell.execute_reply": "2024-10-07T23:17:13.032002Z"
    },
    "papermill": {
     "duration": 0.29869,
     "end_time": "2024-10-07T23:17:13.036151",
     "exception": false,
     "start_time": "2024-10-07T23:17:12.737461",
     "status": "completed"
    },
    "tags": []
   },
   "outputs": [
    {
     "data": {
      "text/plain": [
       "<Axes: >"
      ]
     },
     "execution_count": 10,
     "metadata": {},
     "output_type": "execute_result"
    },
    {
     "data": {
      "image/png": "[encoded data removed]",
      "text/plain": [
       "<Figure size 640x480 with 1 Axes>"
      ]
     },
     "metadata": {},
     "output_type": "display_data"
    }
   ],
   "source": [
    "df['Sub_Type'].hist()"
   ]
  },
  {
   "cell_type": "code",
   "execution_count": 11,
   "id": "b2b6007a",
   "metadata": {
    "execution": {
     "iopub.execute_input": "2024-10-07T23:17:13.063048Z",
     "iopub.status.busy": "2024-10-07T23:17:13.062581Z",
     "iopub.status.idle": "2024-10-07T23:17:13.073281Z",
     "shell.execute_reply": "2024-10-07T23:17:13.071835Z"
    },
    "papermill": {
     "duration": 0.027606,
     "end_time": "2024-10-07T23:17:13.075960",
     "exception": false,
     "start_time": "2024-10-07T23:17:13.048354",
     "status": "completed"
    },
    "tags": []
   },
   "outputs": [
    {
     "data": {
      "text/plain": [
       "Sub_Type\n",
       "Basic       999\n",
       "Standard    768\n",
       "Premium     733\n",
       "Name: count, dtype: int64"
      ]
     },
     "execution_count": 11,
     "metadata": {},
     "output_type": "execute_result"
    }
   ],
   "source": [
    "df['Sub_Type'].value_counts()"
   ]
  },
  {
   "cell_type": "code",
   "execution_count": 12,
   "id": "7a1a0f11",
   "metadata": {
    "execution": {
     "iopub.execute_input": "2024-10-07T23:17:13.101492Z",
     "iopub.status.busy": "2024-10-07T23:17:13.101082Z",
     "iopub.status.idle": "2024-10-07T23:17:13.109598Z",
     "shell.execute_reply": "2024-10-07T23:17:13.108401Z"
    },
    "papermill": {
     "duration": 0.024133,
     "end_time": "2024-10-07T23:17:13.112005",
     "exception": false,
     "start_time": "2024-10-07T23:17:13.087872",
     "status": "completed"
    },
    "tags": []
   },
   "outputs": [
    {
     "data": {
      "text/plain": [
       "Index(['User ID', 'Sub_Type', 'Monthly Revenue', 'Join Date',\n",
       "       'Last Payment Date', 'Country', 'Age', 'Gender', 'Device',\n",
       "       'Plan Duration'],\n",
       "      dtype='object')"
      ]
     },
     "execution_count": 12,
     "metadata": {},
     "output_type": "execute_result"
    }
   ],
   "source": [
    "df.columns"
   ]
  },
  {
   "cell_type": "code",
   "execution_count": 13,
   "id": "5705baaf",
   "metadata": {
    "execution": {
     "iopub.execute_input": "2024-10-07T23:17:13.138477Z",
     "iopub.status.busy": "2024-10-07T23:17:13.137567Z",
     "iopub.status.idle": "2024-10-07T23:17:13.147112Z",
     "shell.execute_reply": "2024-10-07T23:17:13.145852Z"
    },
    "papermill": {
     "duration": 0.025667,
     "end_time": "2024-10-07T23:17:13.149741",
     "exception": false,
     "start_time": "2024-10-07T23:17:13.124074",
     "status": "completed"
    },
    "tags": []
   },
   "outputs": [],
   "source": [
    "col = list(df.columns)\n",
    "df = df[col[0:1] + [col[-1]] + col[1:9]]"
   ]
  },
  {
   "cell_type": "code",
   "execution_count": 14,
   "id": "a87fad89",
   "metadata": {
    "execution": {
     "iopub.execute_input": "2024-10-07T23:17:13.176204Z",
     "iopub.status.busy": "2024-10-07T23:17:13.175068Z",
     "iopub.status.idle": "2024-10-07T23:17:13.192459Z",
     "shell.execute_reply": "2024-10-07T23:17:13.191184Z"
    },
    "papermill": {
     "duration": 0.033614,
     "end_time": "2024-10-07T23:17:13.195286",
     "exception": false,
     "start_time": "2024-10-07T23:17:13.161672",
     "status": "completed"
    },
    "tags": []
   },
   "outputs": [
    {
     "data": {
      "text/html": [
       "<div>\n",
       "<style scoped>\n",
       "    .dataframe tbody tr th:only-of-type {\n",
       "        vertical-align: middle;\n",
       "    }\n",
       "\n",
       "    .dataframe tbody tr th {\n",
       "        vertical-align: top;\n",
       "    }\n",
       "\n",
       "    .dataframe thead th {\n",
       "        text-align: right;\n",
       "    }\n",
       "</style>\n",
       "<table border=\"1\" class=\"dataframe\">\n",
       "  <thead>\n",
       "    <tr style=\"text-align: right;\">\n",
       "      <th></th>\n",
       "      <th>User ID</th>\n",
       "      <th>Plan Duration</th>\n",
       "      <th>Sub_Type</th>\n",
       "      <th>Monthly Revenue</th>\n",
       "      <th>Join Date</th>\n",
       "      <th>Last Payment Date</th>\n",
       "      <th>Country</th>\n",
       "      <th>Age</th>\n",
       "      <th>Gender</th>\n",
       "      <th>Device</th>\n",
       "    </tr>\n",
       "  </thead>\n",
       "  <tbody>\n",
       "    <tr>\n",
       "      <th>0</th>\n",
       "      <td>1</td>\n",
       "      <td>1 Month</td>\n",
       "      <td>Basic</td>\n",
       "      <td>10</td>\n",
       "      <td>15-01-22</td>\n",
       "      <td>10-06-23</td>\n",
       "      <td>United States</td>\n",
       "      <td>28</td>\n",
       "      <td>Male</td>\n",
       "      <td>Smartphone</td>\n",
       "    </tr>\n",
       "    <tr>\n",
       "      <th>1</th>\n",
       "      <td>2</td>\n",
       "      <td>1 Month</td>\n",
       "      <td>Premium</td>\n",
       "      <td>15</td>\n",
       "      <td>05-09-21</td>\n",
       "      <td>22-06-23</td>\n",
       "      <td>Canada</td>\n",
       "      <td>35</td>\n",
       "      <td>Female</td>\n",
       "      <td>Tablet</td>\n",
       "    </tr>\n",
       "    <tr>\n",
       "      <th>2</th>\n",
       "      <td>3</td>\n",
       "      <td>1 Month</td>\n",
       "      <td>Standard</td>\n",
       "      <td>12</td>\n",
       "      <td>28-02-23</td>\n",
       "      <td>27-06-23</td>\n",
       "      <td>United Kingdom</td>\n",
       "      <td>42</td>\n",
       "      <td>Male</td>\n",
       "      <td>Smart TV</td>\n",
       "    </tr>\n",
       "    <tr>\n",
       "      <th>3</th>\n",
       "      <td>4</td>\n",
       "      <td>1 Month</td>\n",
       "      <td>Standard</td>\n",
       "      <td>12</td>\n",
       "      <td>10-07-22</td>\n",
       "      <td>26-06-23</td>\n",
       "      <td>Australia</td>\n",
       "      <td>51</td>\n",
       "      <td>Female</td>\n",
       "      <td>Laptop</td>\n",
       "    </tr>\n",
       "    <tr>\n",
       "      <th>4</th>\n",
       "      <td>5</td>\n",
       "      <td>1 Month</td>\n",
       "      <td>Basic</td>\n",
       "      <td>10</td>\n",
       "      <td>01-05-23</td>\n",
       "      <td>28-06-23</td>\n",
       "      <td>Germany</td>\n",
       "      <td>33</td>\n",
       "      <td>Male</td>\n",
       "      <td>Smartphone</td>\n",
       "    </tr>\n",
       "    <tr>\n",
       "      <th>...</th>\n",
       "      <td>...</td>\n",
       "      <td>...</td>\n",
       "      <td>...</td>\n",
       "      <td>...</td>\n",
       "      <td>...</td>\n",
       "      <td>...</td>\n",
       "      <td>...</td>\n",
       "      <td>...</td>\n",
       "      <td>...</td>\n",
       "      <td>...</td>\n",
       "    </tr>\n",
       "    <tr>\n",
       "      <th>2495</th>\n",
       "      <td>2496</td>\n",
       "      <td>1 Month</td>\n",
       "      <td>Premium</td>\n",
       "      <td>14</td>\n",
       "      <td>25-07-22</td>\n",
       "      <td>12-07-23</td>\n",
       "      <td>Spain</td>\n",
       "      <td>28</td>\n",
       "      <td>Female</td>\n",
       "      <td>Smart TV</td>\n",
       "    </tr>\n",
       "    <tr>\n",
       "      <th>2496</th>\n",
       "      <td>2497</td>\n",
       "      <td>1 Month</td>\n",
       "      <td>Basic</td>\n",
       "      <td>15</td>\n",
       "      <td>04-08-22</td>\n",
       "      <td>14-07-23</td>\n",
       "      <td>Spain</td>\n",
       "      <td>33</td>\n",
       "      <td>Female</td>\n",
       "      <td>Smart TV</td>\n",
       "    </tr>\n",
       "    <tr>\n",
       "      <th>2497</th>\n",
       "      <td>2498</td>\n",
       "      <td>1 Month</td>\n",
       "      <td>Standard</td>\n",
       "      <td>12</td>\n",
       "      <td>09-08-22</td>\n",
       "      <td>15-07-23</td>\n",
       "      <td>United States</td>\n",
       "      <td>38</td>\n",
       "      <td>Male</td>\n",
       "      <td>Laptop</td>\n",
       "    </tr>\n",
       "    <tr>\n",
       "      <th>2498</th>\n",
       "      <td>2499</td>\n",
       "      <td>1 Month</td>\n",
       "      <td>Standard</td>\n",
       "      <td>13</td>\n",
       "      <td>12-08-22</td>\n",
       "      <td>12-07-23</td>\n",
       "      <td>Canada</td>\n",
       "      <td>48</td>\n",
       "      <td>Female</td>\n",
       "      <td>Tablet</td>\n",
       "    </tr>\n",
       "    <tr>\n",
       "      <th>2499</th>\n",
       "      <td>2500</td>\n",
       "      <td>1 Month</td>\n",
       "      <td>Basic</td>\n",
       "      <td>15</td>\n",
       "      <td>13-08-22</td>\n",
       "      <td>12-07-23</td>\n",
       "      <td>United States</td>\n",
       "      <td>35</td>\n",
       "      <td>Female</td>\n",
       "      <td>Smart TV</td>\n",
       "    </tr>\n",
       "  </tbody>\n",
       "</table>\n",
       "<p>2500 rows × 10 columns</p>\n",
       "</div>"
      ],
      "text/plain": [
       "      User ID Plan Duration  Sub_Type  Monthly Revenue Join Date  \\\n",
       "0           1       1 Month     Basic               10  15-01-22   \n",
       "1           2       1 Month   Premium               15  05-09-21   \n",
       "2           3       1 Month  Standard               12  28-02-23   \n",
       "3           4       1 Month  Standard               12  10-07-22   \n",
       "4           5       1 Month     Basic               10  01-05-23   \n",
       "...       ...           ...       ...              ...       ...   \n",
       "2495     2496       1 Month   Premium               14  25-07-22   \n",
       "2496     2497       1 Month     Basic               15  04-08-22   \n",
       "2497     2498       1 Month  Standard               12  09-08-22   \n",
       "2498     2499       1 Month  Standard               13  12-08-22   \n",
       "2499     2500       1 Month     Basic               15  13-08-22   \n",
       "\n",
       "     Last Payment Date         Country  Age  Gender      Device  \n",
       "0             10-06-23   United States   28    Male  Smartphone  \n",
       "1             22-06-23          Canada   35  Female      Tablet  \n",
       "2             27-06-23  United Kingdom   42    Male    Smart TV  \n",
       "3             26-06-23       Australia   51  Female      Laptop  \n",
       "4             28-06-23         Germany   33    Male  Smartphone  \n",
       "...                ...             ...  ...     ...         ...  \n",
       "2495          12-07-23           Spain   28  Female    Smart TV  \n",
       "2496          14-07-23           Spain   33  Female    Smart TV  \n",
       "2497          15-07-23   United States   38    Male      Laptop  \n",
       "2498          12-07-23          Canada   48  Female      Tablet  \n",
       "2499          12-07-23   United States   35  Female    Smart TV  \n",
       "\n",
       "[2500 rows x 10 columns]"
      ]
     },
     "execution_count": 14,
     "metadata": {},
     "output_type": "execute_result"
    }
   ],
   "source": [
    "df"
   ]
  },
  {
   "cell_type": "code",
   "execution_count": 15,
   "id": "84ee6aaf",
   "metadata": {
    "execution": {
     "iopub.execute_input": "2024-10-07T23:17:13.222225Z",
     "iopub.status.busy": "2024-10-07T23:17:13.221834Z",
     "iopub.status.idle": "2024-10-07T23:17:13.450114Z",
     "shell.execute_reply": "2024-10-07T23:17:13.448932Z"
    },
    "papermill": {
     "duration": 0.244735,
     "end_time": "2024-10-07T23:17:13.452875",
     "exception": false,
     "start_time": "2024-10-07T23:17:13.208140",
     "status": "completed"
    },
    "tags": []
   },
   "outputs": [
    {
     "name": "stdout",
     "output_type": "stream",
     "text": [
      "Gender\n",
      "Female    1257\n",
      "Male      1243\n",
      "Name: count, dtype: int64\n"
     ]
    },
    {
     "data": {
      "text/plain": [
       "<Axes: >"
      ]
     },
     "execution_count": 15,
     "metadata": {},
     "output_type": "execute_result"
    },
    {
     "data": {
      "image/png": "[encoded data removed]",
      "text/plain": [
       "<Figure size 640x480 with 1 Axes>"
      ]
     },
     "metadata": {},
     "output_type": "display_data"
    }
   ],
   "source": [
    "print(df['Gender'].value_counts())\n",
    "df['Gender'].hist()"
   ]
  },
  {
   "cell_type": "code",
   "execution_count": 16,
   "id": "3ad23e6b",
   "metadata": {
    "execution": {
     "iopub.execute_input": "2024-10-07T23:17:13.480997Z",
     "iopub.status.busy": "2024-10-07T23:17:13.480549Z",
     "iopub.status.idle": "2024-10-07T23:17:13.488376Z",
     "shell.execute_reply": "2024-10-07T23:17:13.487267Z"
    },
    "papermill": {
     "duration": 0.024868,
     "end_time": "2024-10-07T23:17:13.490969",
     "exception": false,
     "start_time": "2024-10-07T23:17:13.466101",
     "status": "completed"
    },
    "tags": []
   },
   "outputs": [
    {
     "data": {
      "text/plain": [
       "Index(['User ID', 'Plan Duration', 'Sub_Type', 'Monthly Revenue', 'Join Date',\n",
       "       'Last Payment Date', 'Country', 'Age', 'Gender', 'Device'],\n",
       "      dtype='object')"
      ]
     },
     "execution_count": 16,
     "metadata": {},
     "output_type": "execute_result"
    }
   ],
   "source": [
    "df.columns"
   ]
  },
  {
   "cell_type": "code",
   "execution_count": 17,
   "id": "0ccadb5a",
   "metadata": {
    "execution": {
     "iopub.execute_input": "2024-10-07T23:17:13.518432Z",
     "iopub.status.busy": "2024-10-07T23:17:13.518044Z",
     "iopub.status.idle": "2024-10-07T23:17:13.525006Z",
     "shell.execute_reply": "2024-10-07T23:17:13.523661Z"
    },
    "papermill": {
     "duration": 0.023765,
     "end_time": "2024-10-07T23:17:13.527513",
     "exception": false,
     "start_time": "2024-10-07T23:17:13.503748",
     "status": "completed"
    },
    "tags": []
   },
   "outputs": [],
   "source": [
    "df = df.rename(columns={'Plan Duration': 'Plan_Dur'})"
   ]
  },
  {
   "cell_type": "code",
   "execution_count": 18,
   "id": "2fa1c57f",
   "metadata": {
    "execution": {
     "iopub.execute_input": "2024-10-07T23:17:13.555451Z",
     "iopub.status.busy": "2024-10-07T23:17:13.555044Z",
     "iopub.status.idle": "2024-10-07T23:17:13.562663Z",
     "shell.execute_reply": "2024-10-07T23:17:13.561429Z"
    },
    "papermill": {
     "duration": 0.024447,
     "end_time": "2024-10-07T23:17:13.565319",
     "exception": false,
     "start_time": "2024-10-07T23:17:13.540872",
     "status": "completed"
    },
    "tags": []
   },
   "outputs": [
    {
     "data": {
      "text/plain": [
       "Index(['User ID', 'Plan_Dur', 'Sub_Type', 'Monthly Revenue', 'Join Date',\n",
       "       'Last Payment Date', 'Country', 'Age', 'Gender', 'Device'],\n",
       "      dtype='object')"
      ]
     },
     "execution_count": 18,
     "metadata": {},
     "output_type": "execute_result"
    }
   ],
   "source": [
    "df.columns"
   ]
  },
  {
   "cell_type": "code",
   "execution_count": 19,
   "id": "167231b4",
   "metadata": {
    "execution": {
     "iopub.execute_input": "2024-10-07T23:17:13.592952Z",
     "iopub.status.busy": "2024-10-07T23:17:13.592428Z",
     "iopub.status.idle": "2024-10-07T23:17:13.598999Z",
     "shell.execute_reply": "2024-10-07T23:17:13.597821Z"
    },
    "papermill": {
     "duration": 0.023315,
     "end_time": "2024-10-07T23:17:13.601473",
     "exception": false,
     "start_time": "2024-10-07T23:17:13.578158",
     "status": "completed"
    },
    "tags": []
   },
   "outputs": [],
   "source": [
    "ages = df['Age'].unique()\n",
    "\n",
    "ages = sorted(ages)\n"
   ]
  },
  {
   "cell_type": "code",
   "execution_count": 20,
   "id": "c05ae0b6",
   "metadata": {
    "execution": {
     "iopub.execute_input": "2024-10-07T23:17:13.629424Z",
     "iopub.status.busy": "2024-10-07T23:17:13.629027Z",
     "iopub.status.idle": "2024-10-07T23:17:13.639576Z",
     "shell.execute_reply": "2024-10-07T23:17:13.638364Z"
    },
    "papermill": {
     "duration": 0.027657,
     "end_time": "2024-10-07T23:17:13.642169",
     "exception": false,
     "start_time": "2024-10-07T23:17:13.614512",
     "status": "completed"
    },
    "tags": []
   },
   "outputs": [
    {
     "data": {
      "text/plain": [
       "Age\n",
       "39    116\n",
       "30    116\n",
       "28    115\n",
       "31    115\n",
       "41    114\n",
       "47    111\n",
       "37    107\n",
       "35    105\n",
       "29    104\n",
       "40    103\n",
       "42    102\n",
       "48    101\n",
       "46     99\n",
       "36     99\n",
       "49     97\n",
       "43     94\n",
       "33     93\n",
       "51     93\n",
       "32     92\n",
       "45     89\n",
       "38     89\n",
       "34     88\n",
       "27     87\n",
       "44     86\n",
       "50     84\n",
       "26      1\n",
       "Name: count, dtype: int64"
      ]
     },
     "execution_count": 20,
     "metadata": {},
     "output_type": "execute_result"
    }
   ],
   "source": [
    "df['Age'].value_counts()"
   ]
  },
  {
   "cell_type": "code",
   "execution_count": 21,
   "id": "8e66de42",
   "metadata": {
    "execution": {
     "iopub.execute_input": "2024-10-07T23:17:13.669962Z",
     "iopub.status.busy": "2024-10-07T23:17:13.669515Z",
     "iopub.status.idle": "2024-10-07T23:17:13.994001Z",
     "shell.execute_reply": "2024-10-07T23:17:13.992680Z"
    },
    "papermill": {
     "duration": 0.34131,
     "end_time": "2024-10-07T23:17:13.996546",
     "exception": false,
     "start_time": "2024-10-07T23:17:13.655236",
     "status": "completed"
    },
    "tags": []
   },
   "outputs": [
    {
     "data": {
      "text/plain": [
       "Text(0, 0.5, 'Frequency')"
      ]
     },
     "execution_count": 21,
     "metadata": {},
     "output_type": "execute_result"
    },
    {
     "data": {
      "image/png": "[encoded data removed]",
      "text/plain": [
       "<Figure size 640x480 with 1 Axes>"
      ]
     },
     "metadata": {},
     "output_type": "display_data"
    }
   ],
   "source": [
    "df['Age'].hist(bins= ages,edgecolor='black', align='left')\n",
    "\n",
    "plt.xlabel('Age')\n",
    "plt.ylabel('Frequency')"
   ]
  },
  {
   "cell_type": "code",
   "execution_count": 22,
   "id": "c3d12d57",
   "metadata": {
    "execution": {
     "iopub.execute_input": "2024-10-07T23:17:14.025464Z",
     "iopub.status.busy": "2024-10-07T23:17:14.025046Z",
     "iopub.status.idle": "2024-10-07T23:17:14.042150Z",
     "shell.execute_reply": "2024-10-07T23:17:14.040891Z"
    },
    "papermill": {
     "duration": 0.034919,
     "end_time": "2024-10-07T23:17:14.044943",
     "exception": false,
     "start_time": "2024-10-07T23:17:14.010024",
     "status": "completed"
    },
    "tags": []
   },
   "outputs": [
    {
     "data": {
      "text/html": [
       "<div>\n",
       "<style scoped>\n",
       "    .dataframe tbody tr th:only-of-type {\n",
       "        vertical-align: middle;\n",
       "    }\n",
       "\n",
       "    .dataframe tbody tr th {\n",
       "        vertical-align: top;\n",
       "    }\n",
       "\n",
       "    .dataframe thead th {\n",
       "        text-align: right;\n",
       "    }\n",
       "</style>\n",
       "<table border=\"1\" class=\"dataframe\">\n",
       "  <thead>\n",
       "    <tr style=\"text-align: right;\">\n",
       "      <th></th>\n",
       "      <th>User ID</th>\n",
       "      <th>Plan_Dur</th>\n",
       "      <th>Sub_Type</th>\n",
       "      <th>Monthly Revenue</th>\n",
       "      <th>Join Date</th>\n",
       "      <th>Last Payment Date</th>\n",
       "      <th>Country</th>\n",
       "      <th>Age</th>\n",
       "      <th>Gender</th>\n",
       "      <th>Device</th>\n",
       "    </tr>\n",
       "  </thead>\n",
       "  <tbody>\n",
       "    <tr>\n",
       "      <th>0</th>\n",
       "      <td>1</td>\n",
       "      <td>1 Month</td>\n",
       "      <td>Basic</td>\n",
       "      <td>10</td>\n",
       "      <td>15-01-22</td>\n",
       "      <td>10-06-23</td>\n",
       "      <td>United States</td>\n",
       "      <td>28</td>\n",
       "      <td>Male</td>\n",
       "      <td>Smartphone</td>\n",
       "    </tr>\n",
       "    <tr>\n",
       "      <th>1</th>\n",
       "      <td>2</td>\n",
       "      <td>1 Month</td>\n",
       "      <td>Premium</td>\n",
       "      <td>15</td>\n",
       "      <td>05-09-21</td>\n",
       "      <td>22-06-23</td>\n",
       "      <td>Canada</td>\n",
       "      <td>35</td>\n",
       "      <td>Female</td>\n",
       "      <td>Tablet</td>\n",
       "    </tr>\n",
       "    <tr>\n",
       "      <th>2</th>\n",
       "      <td>3</td>\n",
       "      <td>1 Month</td>\n",
       "      <td>Standard</td>\n",
       "      <td>12</td>\n",
       "      <td>28-02-23</td>\n",
       "      <td>27-06-23</td>\n",
       "      <td>United Kingdom</td>\n",
       "      <td>42</td>\n",
       "      <td>Male</td>\n",
       "      <td>Smart TV</td>\n",
       "    </tr>\n",
       "    <tr>\n",
       "      <th>3</th>\n",
       "      <td>4</td>\n",
       "      <td>1 Month</td>\n",
       "      <td>Standard</td>\n",
       "      <td>12</td>\n",
       "      <td>10-07-22</td>\n",
       "      <td>26-06-23</td>\n",
       "      <td>Australia</td>\n",
       "      <td>51</td>\n",
       "      <td>Female</td>\n",
       "      <td>Laptop</td>\n",
       "    </tr>\n",
       "    <tr>\n",
       "      <th>4</th>\n",
       "      <td>5</td>\n",
       "      <td>1 Month</td>\n",
       "      <td>Basic</td>\n",
       "      <td>10</td>\n",
       "      <td>01-05-23</td>\n",
       "      <td>28-06-23</td>\n",
       "      <td>Germany</td>\n",
       "      <td>33</td>\n",
       "      <td>Male</td>\n",
       "      <td>Smartphone</td>\n",
       "    </tr>\n",
       "  </tbody>\n",
       "</table>\n",
       "</div>"
      ],
      "text/plain": [
       "   User ID Plan_Dur  Sub_Type  Monthly Revenue Join Date Last Payment Date  \\\n",
       "0        1  1 Month     Basic               10  15-01-22          10-06-23   \n",
       "1        2  1 Month   Premium               15  05-09-21          22-06-23   \n",
       "2        3  1 Month  Standard               12  28-02-23          27-06-23   \n",
       "3        4  1 Month  Standard               12  10-07-22          26-06-23   \n",
       "4        5  1 Month     Basic               10  01-05-23          28-06-23   \n",
       "\n",
       "          Country  Age  Gender      Device  \n",
       "0   United States   28    Male  Smartphone  \n",
       "1          Canada   35  Female      Tablet  \n",
       "2  United Kingdom   42    Male    Smart TV  \n",
       "3       Australia   51  Female      Laptop  \n",
       "4         Germany   33    Male  Smartphone  "
      ]
     },
     "execution_count": 22,
     "metadata": {},
     "output_type": "execute_result"
    }
   ],
   "source": [
    "df.head()"
   ]
  },
  {
   "cell_type": "code",
   "execution_count": 23,
   "id": "f7301806",
   "metadata": {
    "execution": {
     "iopub.execute_input": "2024-10-07T23:17:14.075929Z",
     "iopub.status.busy": "2024-10-07T23:17:14.075467Z",
     "iopub.status.idle": "2024-10-07T23:17:14.086204Z",
     "shell.execute_reply": "2024-10-07T23:17:14.084710Z"
    },
    "papermill": {
     "duration": 0.029289,
     "end_time": "2024-10-07T23:17:14.088658",
     "exception": false,
     "start_time": "2024-10-07T23:17:14.059369",
     "status": "completed"
    },
    "tags": []
   },
   "outputs": [
    {
     "data": {
      "text/plain": [
       "Device\n",
       "Laptop        636\n",
       "Tablet        633\n",
       "Smartphone    621\n",
       "Smart TV      610\n",
       "Name: count, dtype: int64"
      ]
     },
     "execution_count": 23,
     "metadata": {},
     "output_type": "execute_result"
    }
   ],
   "source": [
    "df['Device'].value_counts()"
   ]
  },
  {
   "cell_type": "code",
   "execution_count": 24,
   "id": "bda44450",
   "metadata": {
    "execution": {
     "iopub.execute_input": "2024-10-07T23:17:14.118772Z",
     "iopub.status.busy": "2024-10-07T23:17:14.118313Z",
     "iopub.status.idle": "2024-10-07T23:17:14.363699Z",
     "shell.execute_reply": "2024-10-07T23:17:14.362449Z"
    },
    "papermill": {
     "duration": 0.264029,
     "end_time": "2024-10-07T23:17:14.366498",
     "exception": false,
     "start_time": "2024-10-07T23:17:14.102469",
     "status": "completed"
    },
    "tags": []
   },
   "outputs": [
    {
     "data": {
      "text/plain": [
       "<Axes: >"
      ]
     },
     "execution_count": 24,
     "metadata": {},
     "output_type": "execute_result"
    },
    {
     "data": {
      "image/png": "[encoded data removed]",
      "text/plain": [
       "<Figure size 640x480 with 1 Axes>"
      ]
     },
     "metadata": {},
     "output_type": "display_data"
    }
   ],
   "source": [
    "df['Device'].hist()"
   ]
  },
  {
   "cell_type": "code",
   "execution_count": 25,
   "id": "4bf9addf",
   "metadata": {
    "execution": {
     "iopub.execute_input": "2024-10-07T23:17:14.399471Z",
     "iopub.status.busy": "2024-10-07T23:17:14.398511Z",
     "iopub.status.idle": "2024-10-07T23:17:14.413390Z",
     "shell.execute_reply": "2024-10-07T23:17:14.412230Z"
    },
    "papermill": {
     "duration": 0.034246,
     "end_time": "2024-10-07T23:17:14.415749",
     "exception": false,
     "start_time": "2024-10-07T23:17:14.381503",
     "status": "completed"
    },
    "tags": []
   },
   "outputs": [
    {
     "data": {
      "text/html": [
       "<div>\n",
       "<style scoped>\n",
       "    .dataframe tbody tr th:only-of-type {\n",
       "        vertical-align: middle;\n",
       "    }\n",
       "\n",
       "    .dataframe tbody tr th {\n",
       "        vertical-align: top;\n",
       "    }\n",
       "\n",
       "    .dataframe thead th {\n",
       "        text-align: right;\n",
       "    }\n",
       "</style>\n",
       "<table border=\"1\" class=\"dataframe\">\n",
       "  <thead>\n",
       "    <tr style=\"text-align: right;\">\n",
       "      <th></th>\n",
       "      <th>User ID</th>\n",
       "      <th>Plan_Dur</th>\n",
       "      <th>Sub_Type</th>\n",
       "      <th>Monthly Revenue</th>\n",
       "      <th>Join Date</th>\n",
       "      <th>Last Payment Date</th>\n",
       "      <th>Country</th>\n",
       "      <th>Age</th>\n",
       "      <th>Gender</th>\n",
       "      <th>Device</th>\n",
       "    </tr>\n",
       "  </thead>\n",
       "  <tbody>\n",
       "    <tr>\n",
       "      <th>0</th>\n",
       "      <td>1</td>\n",
       "      <td>1 Month</td>\n",
       "      <td>Basic</td>\n",
       "      <td>10</td>\n",
       "      <td>15-01-22</td>\n",
       "      <td>10-06-23</td>\n",
       "      <td>United States</td>\n",
       "      <td>28</td>\n",
       "      <td>Male</td>\n",
       "      <td>Smartphone</td>\n",
       "    </tr>\n",
       "    <tr>\n",
       "      <th>1</th>\n",
       "      <td>2</td>\n",
       "      <td>1 Month</td>\n",
       "      <td>Premium</td>\n",
       "      <td>15</td>\n",
       "      <td>05-09-21</td>\n",
       "      <td>22-06-23</td>\n",
       "      <td>Canada</td>\n",
       "      <td>35</td>\n",
       "      <td>Female</td>\n",
       "      <td>Tablet</td>\n",
       "    </tr>\n",
       "    <tr>\n",
       "      <th>2</th>\n",
       "      <td>3</td>\n",
       "      <td>1 Month</td>\n",
       "      <td>Standard</td>\n",
       "      <td>12</td>\n",
       "      <td>28-02-23</td>\n",
       "      <td>27-06-23</td>\n",
       "      <td>United Kingdom</td>\n",
       "      <td>42</td>\n",
       "      <td>Male</td>\n",
       "      <td>Smart TV</td>\n",
       "    </tr>\n",
       "    <tr>\n",
       "      <th>3</th>\n",
       "      <td>4</td>\n",
       "      <td>1 Month</td>\n",
       "      <td>Standard</td>\n",
       "      <td>12</td>\n",
       "      <td>10-07-22</td>\n",
       "      <td>26-06-23</td>\n",
       "      <td>Australia</td>\n",
       "      <td>51</td>\n",
       "      <td>Female</td>\n",
       "      <td>Laptop</td>\n",
       "    </tr>\n",
       "    <tr>\n",
       "      <th>4</th>\n",
       "      <td>5</td>\n",
       "      <td>1 Month</td>\n",
       "      <td>Basic</td>\n",
       "      <td>10</td>\n",
       "      <td>01-05-23</td>\n",
       "      <td>28-06-23</td>\n",
       "      <td>Germany</td>\n",
       "      <td>33</td>\n",
       "      <td>Male</td>\n",
       "      <td>Smartphone</td>\n",
       "    </tr>\n",
       "  </tbody>\n",
       "</table>\n",
       "</div>"
      ],
      "text/plain": [
       "   User ID Plan_Dur  Sub_Type  Monthly Revenue Join Date Last Payment Date  \\\n",
       "0        1  1 Month     Basic               10  15-01-22          10-06-23   \n",
       "1        2  1 Month   Premium               15  05-09-21          22-06-23   \n",
       "2        3  1 Month  Standard               12  28-02-23          27-06-23   \n",
       "3        4  1 Month  Standard               12  10-07-22          26-06-23   \n",
       "4        5  1 Month     Basic               10  01-05-23          28-06-23   \n",
       "\n",
       "          Country  Age  Gender      Device  \n",
       "0   United States   28    Male  Smartphone  \n",
       "1          Canada   35  Female      Tablet  \n",
       "2  United Kingdom   42    Male    Smart TV  \n",
       "3       Australia   51  Female      Laptop  \n",
       "4         Germany   33    Male  Smartphone  "
      ]
     },
     "execution_count": 25,
     "metadata": {},
     "output_type": "execute_result"
    }
   ],
   "source": [
    "df.head()"
   ]
  },
  {
   "cell_type": "code",
   "execution_count": 26,
   "id": "c5700b6e",
   "metadata": {
    "execution": {
     "iopub.execute_input": "2024-10-07T23:17:14.447245Z",
     "iopub.status.busy": "2024-10-07T23:17:14.445942Z",
     "iopub.status.idle": "2024-10-07T23:17:14.452926Z",
     "shell.execute_reply": "2024-10-07T23:17:14.451429Z"
    },
    "papermill": {
     "duration": 0.02518,
     "end_time": "2024-10-07T23:17:14.455406",
     "exception": false,
     "start_time": "2024-10-07T23:17:14.430226",
     "status": "completed"
    },
    "tags": []
   },
   "outputs": [],
   "source": [
    "df = df.rename(columns={'Monthly Revenue':'Mon_Rev'})"
   ]
  },
  {
   "cell_type": "code",
   "execution_count": 27,
   "id": "04205abb",
   "metadata": {
    "execution": {
     "iopub.execute_input": "2024-10-07T23:17:14.485875Z",
     "iopub.status.busy": "2024-10-07T23:17:14.485417Z",
     "iopub.status.idle": "2024-10-07T23:17:14.493388Z",
     "shell.execute_reply": "2024-10-07T23:17:14.492099Z"
    },
    "papermill": {
     "duration": 0.025987,
     "end_time": "2024-10-07T23:17:14.495774",
     "exception": false,
     "start_time": "2024-10-07T23:17:14.469787",
     "status": "completed"
    },
    "tags": []
   },
   "outputs": [
    {
     "data": {
      "text/plain": [
       "Index(['User ID', 'Plan_Dur', 'Sub_Type', 'Mon_Rev', 'Join Date',\n",
       "       'Last Payment Date', 'Country', 'Age', 'Gender', 'Device'],\n",
       "      dtype='object')"
      ]
     },
     "execution_count": 27,
     "metadata": {},
     "output_type": "execute_result"
    }
   ],
   "source": [
    "df.columns"
   ]
  },
  {
   "cell_type": "code",
   "execution_count": 28,
   "id": "051c54c0",
   "metadata": {
    "execution": {
     "iopub.execute_input": "2024-10-07T23:17:14.527619Z",
     "iopub.status.busy": "2024-10-07T23:17:14.527199Z",
     "iopub.status.idle": "2024-10-07T23:17:14.810848Z",
     "shell.execute_reply": "2024-10-07T23:17:14.809252Z"
    },
    "papermill": {
     "duration": 0.303082,
     "end_time": "2024-10-07T23:17:14.813709",
     "exception": false,
     "start_time": "2024-10-07T23:17:14.510627",
     "status": "completed"
    },
    "tags": []
   },
   "outputs": [
    {
     "data": {
      "text/plain": [
       "(array([0, 1, 2]),\n",
       " [Text(0, 0, 'Basic'), Text(1, 0, 'Premium'), Text(2, 0, 'Standard')])"
      ]
     },
     "execution_count": 28,
     "metadata": {},
     "output_type": "execute_result"
    },
    {
     "data": {
      "image/png": "[encoded data removed]",
      "text/plain": [
       "<Figure size 640x480 with 1 Axes>"
      ]
     },
     "metadata": {},
     "output_type": "display_data"
    }
   ],
   "source": [
    "sub_and_Rev = df.groupby('Sub_Type')['Mon_Rev'].sum()\n",
    "sub_and_Rev.plot(kind='bar')\n",
    "\n",
    "plt.xlabel(\"Sub Type\")\n",
    "plt.ylabel(\"Amount per Month\")\n",
    "plt.title('Total Monthly Revenue')\n",
    "plt.xticks(rotation=0)"
   ]
  },
  {
   "cell_type": "code",
   "execution_count": 29,
   "id": "590b6437",
   "metadata": {
    "execution": {
     "iopub.execute_input": "2024-10-07T23:17:14.847539Z",
     "iopub.status.busy": "2024-10-07T23:17:14.847102Z",
     "iopub.status.idle": "2024-10-07T23:17:14.862655Z",
     "shell.execute_reply": "2024-10-07T23:17:14.861376Z"
    },
    "papermill": {
     "duration": 0.035365,
     "end_time": "2024-10-07T23:17:14.864995",
     "exception": false,
     "start_time": "2024-10-07T23:17:14.829630",
     "status": "completed"
    },
    "tags": []
   },
   "outputs": [
    {
     "data": {
      "text/html": [
       "<div>\n",
       "<style scoped>\n",
       "    .dataframe tbody tr th:only-of-type {\n",
       "        vertical-align: middle;\n",
       "    }\n",
       "\n",
       "    .dataframe tbody tr th {\n",
       "        vertical-align: top;\n",
       "    }\n",
       "\n",
       "    .dataframe thead th {\n",
       "        text-align: right;\n",
       "    }\n",
       "</style>\n",
       "<table border=\"1\" class=\"dataframe\">\n",
       "  <thead>\n",
       "    <tr style=\"text-align: right;\">\n",
       "      <th></th>\n",
       "      <th>User ID</th>\n",
       "      <th>Plan_Dur</th>\n",
       "      <th>Sub_Type</th>\n",
       "      <th>Mon_Rev</th>\n",
       "      <th>Join Date</th>\n",
       "      <th>Last Payment Date</th>\n",
       "      <th>Country</th>\n",
       "      <th>Age</th>\n",
       "      <th>Gender</th>\n",
       "      <th>Device</th>\n",
       "    </tr>\n",
       "  </thead>\n",
       "  <tbody>\n",
       "    <tr>\n",
       "      <th>0</th>\n",
       "      <td>1</td>\n",
       "      <td>1 Month</td>\n",
       "      <td>Basic</td>\n",
       "      <td>10</td>\n",
       "      <td>15-01-22</td>\n",
       "      <td>10-06-23</td>\n",
       "      <td>United States</td>\n",
       "      <td>28</td>\n",
       "      <td>Male</td>\n",
       "      <td>Smartphone</td>\n",
       "    </tr>\n",
       "    <tr>\n",
       "      <th>1</th>\n",
       "      <td>2</td>\n",
       "      <td>1 Month</td>\n",
       "      <td>Premium</td>\n",
       "      <td>15</td>\n",
       "      <td>05-09-21</td>\n",
       "      <td>22-06-23</td>\n",
       "      <td>Canada</td>\n",
       "      <td>35</td>\n",
       "      <td>Female</td>\n",
       "      <td>Tablet</td>\n",
       "    </tr>\n",
       "    <tr>\n",
       "      <th>2</th>\n",
       "      <td>3</td>\n",
       "      <td>1 Month</td>\n",
       "      <td>Standard</td>\n",
       "      <td>12</td>\n",
       "      <td>28-02-23</td>\n",
       "      <td>27-06-23</td>\n",
       "      <td>United Kingdom</td>\n",
       "      <td>42</td>\n",
       "      <td>Male</td>\n",
       "      <td>Smart TV</td>\n",
       "    </tr>\n",
       "    <tr>\n",
       "      <th>3</th>\n",
       "      <td>4</td>\n",
       "      <td>1 Month</td>\n",
       "      <td>Standard</td>\n",
       "      <td>12</td>\n",
       "      <td>10-07-22</td>\n",
       "      <td>26-06-23</td>\n",
       "      <td>Australia</td>\n",
       "      <td>51</td>\n",
       "      <td>Female</td>\n",
       "      <td>Laptop</td>\n",
       "    </tr>\n",
       "    <tr>\n",
       "      <th>4</th>\n",
       "      <td>5</td>\n",
       "      <td>1 Month</td>\n",
       "      <td>Basic</td>\n",
       "      <td>10</td>\n",
       "      <td>01-05-23</td>\n",
       "      <td>28-06-23</td>\n",
       "      <td>Germany</td>\n",
       "      <td>33</td>\n",
       "      <td>Male</td>\n",
       "      <td>Smartphone</td>\n",
       "    </tr>\n",
       "  </tbody>\n",
       "</table>\n",
       "</div>"
      ],
      "text/plain": [
       "   User ID Plan_Dur  Sub_Type  Mon_Rev Join Date Last Payment Date  \\\n",
       "0        1  1 Month     Basic       10  15-01-22          10-06-23   \n",
       "1        2  1 Month   Premium       15  05-09-21          22-06-23   \n",
       "2        3  1 Month  Standard       12  28-02-23          27-06-23   \n",
       "3        4  1 Month  Standard       12  10-07-22          26-06-23   \n",
       "4        5  1 Month     Basic       10  01-05-23          28-06-23   \n",
       "\n",
       "          Country  Age  Gender      Device  \n",
       "0   United States   28    Male  Smartphone  \n",
       "1          Canada   35  Female      Tablet  \n",
       "2  United Kingdom   42    Male    Smart TV  \n",
       "3       Australia   51  Female      Laptop  \n",
       "4         Germany   33    Male  Smartphone  "
      ]
     },
     "execution_count": 29,
     "metadata": {},
     "output_type": "execute_result"
    }
   ],
   "source": [
    "df.head()"
   ]
  },
  {
   "cell_type": "code",
   "execution_count": 30,
   "id": "fec3ef7e",
   "metadata": {
    "execution": {
     "iopub.execute_input": "2024-10-07T23:17:14.898631Z",
     "iopub.status.busy": "2024-10-07T23:17:14.897593Z",
     "iopub.status.idle": "2024-10-07T23:17:14.905836Z",
     "shell.execute_reply": "2024-10-07T23:17:14.904348Z"
    },
    "papermill": {
     "duration": 0.02762,
     "end_time": "2024-10-07T23:17:14.908405",
     "exception": false,
     "start_time": "2024-10-07T23:17:14.880785",
     "status": "completed"
    },
    "tags": []
   },
   "outputs": [
    {
     "data": {
      "text/plain": [
       "array(['United States', 'Canada', 'United Kingdom', 'Australia',\n",
       "       'Germany', 'France', 'Brazil', 'Mexico', 'Spain', 'Italy'],\n",
       "      dtype=object)"
      ]
     },
     "execution_count": 30,
     "metadata": {},
     "output_type": "execute_result"
    }
   ],
   "source": [
    "df['Country'].unique()\n",
    "\n",
    "#US_Sub = df[df['Country'] =='Unit']"
   ]
  },
  {
   "cell_type": "code",
   "execution_count": 31,
   "id": "0c053b7d",
   "metadata": {
    "execution": {
     "iopub.execute_input": "2024-10-07T23:17:14.941638Z",
     "iopub.status.busy": "2024-10-07T23:17:14.941226Z",
     "iopub.status.idle": "2024-10-07T23:17:14.951042Z",
     "shell.execute_reply": "2024-10-07T23:17:14.949948Z"
    },
    "papermill": {
     "duration": 0.029591,
     "end_time": "2024-10-07T23:17:14.953603",
     "exception": false,
     "start_time": "2024-10-07T23:17:14.924012",
     "status": "completed"
    },
    "tags": []
   },
   "outputs": [
    {
     "data": {
      "text/plain": [
       "Country\n",
       "United States     451\n",
       "Spain             451\n",
       "Canada            317\n",
       "United Kingdom    183\n",
       "Australia         183\n",
       "Germany           183\n",
       "France            183\n",
       "Brazil            183\n",
       "Mexico            183\n",
       "Italy             183\n",
       "Name: count, dtype: int64"
      ]
     },
     "execution_count": 31,
     "metadata": {},
     "output_type": "execute_result"
    }
   ],
   "source": [
    "df['Country'].value_counts()"
   ]
  },
  {
   "cell_type": "code",
   "execution_count": 32,
   "id": "82a9b20e",
   "metadata": {
    "execution": {
     "iopub.execute_input": "2024-10-07T23:17:14.987834Z",
     "iopub.status.busy": "2024-10-07T23:17:14.987337Z",
     "iopub.status.idle": "2024-10-07T23:17:14.995385Z",
     "shell.execute_reply": "2024-10-07T23:17:14.994162Z"
    },
    "papermill": {
     "duration": 0.027958,
     "end_time": "2024-10-07T23:17:14.997996",
     "exception": false,
     "start_time": "2024-10-07T23:17:14.970038",
     "status": "completed"
    },
    "tags": []
   },
   "outputs": [],
   "source": [
    "countrys = df.groupby('Country').size()"
   ]
  },
  {
   "cell_type": "code",
   "execution_count": 33,
   "id": "02d06bc5",
   "metadata": {
    "execution": {
     "iopub.execute_input": "2024-10-07T23:17:15.031402Z",
     "iopub.status.busy": "2024-10-07T23:17:15.030975Z",
     "iopub.status.idle": "2024-10-07T23:17:15.321953Z",
     "shell.execute_reply": "2024-10-07T23:17:15.320815Z"
    },
    "papermill": {
     "duration": 0.31099,
     "end_time": "2024-10-07T23:17:15.324604",
     "exception": false,
     "start_time": "2024-10-07T23:17:15.013614",
     "status": "completed"
    },
    "tags": []
   },
   "outputs": [
    {
     "data": {
      "text/plain": [
       "<Axes: xlabel='Country'>"
      ]
     },
     "execution_count": 33,
     "metadata": {},
     "output_type": "execute_result"
    },
    {
     "data": {
      "image/png": "[encoded data removed]",
      "text/plain": [
       "<Figure size 640x480 with 1 Axes>"
      ]
     },
     "metadata": {},
     "output_type": "display_data"
    }
   ],
   "source": [
    "countrys.plot(kind='bar')"
   ]
  },
  {
   "cell_type": "code",
   "execution_count": 34,
   "id": "9664430f",
   "metadata": {
    "execution": {
     "iopub.execute_input": "2024-10-07T23:17:15.359840Z",
     "iopub.status.busy": "2024-10-07T23:17:15.359369Z",
     "iopub.status.idle": "2024-10-07T23:17:15.376161Z",
     "shell.execute_reply": "2024-10-07T23:17:15.374793Z"
    },
    "papermill": {
     "duration": 0.037767,
     "end_time": "2024-10-07T23:17:15.379173",
     "exception": false,
     "start_time": "2024-10-07T23:17:15.341406",
     "status": "completed"
    },
    "tags": []
   },
   "outputs": [
    {
     "data": {
      "text/html": [
       "<div>\n",
       "<style scoped>\n",
       "    .dataframe tbody tr th:only-of-type {\n",
       "        vertical-align: middle;\n",
       "    }\n",
       "\n",
       "    .dataframe tbody tr th {\n",
       "        vertical-align: top;\n",
       "    }\n",
       "\n",
       "    .dataframe thead th {\n",
       "        text-align: right;\n",
       "    }\n",
       "</style>\n",
       "<table border=\"1\" class=\"dataframe\">\n",
       "  <thead>\n",
       "    <tr style=\"text-align: right;\">\n",
       "      <th></th>\n",
       "      <th>User ID</th>\n",
       "      <th>Plan_Dur</th>\n",
       "      <th>Sub_Type</th>\n",
       "      <th>Mon_Rev</th>\n",
       "      <th>Join Date</th>\n",
       "      <th>Last Payment Date</th>\n",
       "      <th>Country</th>\n",
       "      <th>Age</th>\n",
       "      <th>Gender</th>\n",
       "      <th>Device</th>\n",
       "    </tr>\n",
       "  </thead>\n",
       "  <tbody>\n",
       "    <tr>\n",
       "      <th>0</th>\n",
       "      <td>1</td>\n",
       "      <td>1 Month</td>\n",
       "      <td>Basic</td>\n",
       "      <td>10</td>\n",
       "      <td>15-01-22</td>\n",
       "      <td>10-06-23</td>\n",
       "      <td>United States</td>\n",
       "      <td>28</td>\n",
       "      <td>Male</td>\n",
       "      <td>Smartphone</td>\n",
       "    </tr>\n",
       "    <tr>\n",
       "      <th>1</th>\n",
       "      <td>2</td>\n",
       "      <td>1 Month</td>\n",
       "      <td>Premium</td>\n",
       "      <td>15</td>\n",
       "      <td>05-09-21</td>\n",
       "      <td>22-06-23</td>\n",
       "      <td>Canada</td>\n",
       "      <td>35</td>\n",
       "      <td>Female</td>\n",
       "      <td>Tablet</td>\n",
       "    </tr>\n",
       "    <tr>\n",
       "      <th>2</th>\n",
       "      <td>3</td>\n",
       "      <td>1 Month</td>\n",
       "      <td>Standard</td>\n",
       "      <td>12</td>\n",
       "      <td>28-02-23</td>\n",
       "      <td>27-06-23</td>\n",
       "      <td>United Kingdom</td>\n",
       "      <td>42</td>\n",
       "      <td>Male</td>\n",
       "      <td>Smart TV</td>\n",
       "    </tr>\n",
       "    <tr>\n",
       "      <th>3</th>\n",
       "      <td>4</td>\n",
       "      <td>1 Month</td>\n",
       "      <td>Standard</td>\n",
       "      <td>12</td>\n",
       "      <td>10-07-22</td>\n",
       "      <td>26-06-23</td>\n",
       "      <td>Australia</td>\n",
       "      <td>51</td>\n",
       "      <td>Female</td>\n",
       "      <td>Laptop</td>\n",
       "    </tr>\n",
       "    <tr>\n",
       "      <th>4</th>\n",
       "      <td>5</td>\n",
       "      <td>1 Month</td>\n",
       "      <td>Basic</td>\n",
       "      <td>10</td>\n",
       "      <td>01-05-23</td>\n",
       "      <td>28-06-23</td>\n",
       "      <td>Germany</td>\n",
       "      <td>33</td>\n",
       "      <td>Male</td>\n",
       "      <td>Smartphone</td>\n",
       "    </tr>\n",
       "  </tbody>\n",
       "</table>\n",
       "</div>"
      ],
      "text/plain": [
       "   User ID Plan_Dur  Sub_Type  Mon_Rev Join Date Last Payment Date  \\\n",
       "0        1  1 Month     Basic       10  15-01-22          10-06-23   \n",
       "1        2  1 Month   Premium       15  05-09-21          22-06-23   \n",
       "2        3  1 Month  Standard       12  28-02-23          27-06-23   \n",
       "3        4  1 Month  Standard       12  10-07-22          26-06-23   \n",
       "4        5  1 Month     Basic       10  01-05-23          28-06-23   \n",
       "\n",
       "          Country  Age  Gender      Device  \n",
       "0   United States   28    Male  Smartphone  \n",
       "1          Canada   35  Female      Tablet  \n",
       "2  United Kingdom   42    Male    Smart TV  \n",
       "3       Australia   51  Female      Laptop  \n",
       "4         Germany   33    Male  Smartphone  "
      ]
     },
     "execution_count": 34,
     "metadata": {},
     "output_type": "execute_result"
    }
   ],
   "source": [
    "df.head()\n"
   ]
  },
  {
   "cell_type": "code",
   "execution_count": 35,
   "id": "17633f9f",
   "metadata": {
    "execution": {
     "iopub.execute_input": "2024-10-07T23:17:15.415942Z",
     "iopub.status.busy": "2024-10-07T23:17:15.415438Z",
     "iopub.status.idle": "2024-10-07T23:17:15.424406Z",
     "shell.execute_reply": "2024-10-07T23:17:15.423079Z"
    },
    "papermill": {
     "duration": 0.029834,
     "end_time": "2024-10-07T23:17:15.427029",
     "exception": false,
     "start_time": "2024-10-07T23:17:15.397195",
     "status": "completed"
    },
    "tags": []
   },
   "outputs": [
    {
     "data": {
      "text/plain": [
       "Index(['User ID', 'Plan_Dur', 'Sub_Type', 'Mon_Rev', 'Join',\n",
       "       'Last Payment Date', 'Country', 'Age', 'Gender', 'Device'],\n",
       "      dtype='object')"
      ]
     },
     "execution_count": 35,
     "metadata": {},
     "output_type": "execute_result"
    }
   ],
   "source": [
    "#df = df.rename(columns={'Join Date': 'Join'})\n",
    "df = df.rename(columns={'Join Date': 'Join'})\n",
    "\n",
    "df.columns"
   ]
  },
  {
   "cell_type": "code",
   "execution_count": 36,
   "id": "15a53331",
   "metadata": {
    "execution": {
     "iopub.execute_input": "2024-10-07T23:17:15.462595Z",
     "iopub.status.busy": "2024-10-07T23:17:15.462153Z",
     "iopub.status.idle": "2024-10-07T23:17:15.479396Z",
     "shell.execute_reply": "2024-10-07T23:17:15.478119Z"
    },
    "papermill": {
     "duration": 0.038687,
     "end_time": "2024-10-07T23:17:15.482170",
     "exception": false,
     "start_time": "2024-10-07T23:17:15.443483",
     "status": "completed"
    },
    "tags": []
   },
   "outputs": [],
   "source": [
    "df['Join'] = pd.to_datetime(df['Join'], format= '%d-%m-%y')"
   ]
  },
  {
   "cell_type": "code",
   "execution_count": 37,
   "id": "0f0598dd",
   "metadata": {
    "execution": {
     "iopub.execute_input": "2024-10-07T23:17:15.517989Z",
     "iopub.status.busy": "2024-10-07T23:17:15.517392Z",
     "iopub.status.idle": "2024-10-07T23:17:15.536391Z",
     "shell.execute_reply": "2024-10-07T23:17:15.535207Z"
    },
    "papermill": {
     "duration": 0.040211,
     "end_time": "2024-10-07T23:17:15.539371",
     "exception": false,
     "start_time": "2024-10-07T23:17:15.499160",
     "status": "completed"
    },
    "tags": []
   },
   "outputs": [
    {
     "data": {
      "text/html": [
       "<div>\n",
       "<style scoped>\n",
       "    .dataframe tbody tr th:only-of-type {\n",
       "        vertical-align: middle;\n",
       "    }\n",
       "\n",
       "    .dataframe tbody tr th {\n",
       "        vertical-align: top;\n",
       "    }\n",
       "\n",
       "    .dataframe thead th {\n",
       "        text-align: right;\n",
       "    }\n",
       "</style>\n",
       "<table border=\"1\" class=\"dataframe\">\n",
       "  <thead>\n",
       "    <tr style=\"text-align: right;\">\n",
       "      <th></th>\n",
       "      <th>Year</th>\n",
       "      <th>Month</th>\n",
       "      <th>Day</th>\n",
       "      <th>Origin</th>\n",
       "    </tr>\n",
       "  </thead>\n",
       "  <tbody>\n",
       "    <tr>\n",
       "      <th>0</th>\n",
       "      <td>2022</td>\n",
       "      <td>1</td>\n",
       "      <td>15</td>\n",
       "      <td>United States</td>\n",
       "    </tr>\n",
       "    <tr>\n",
       "      <th>1</th>\n",
       "      <td>2021</td>\n",
       "      <td>9</td>\n",
       "      <td>5</td>\n",
       "      <td>Canada</td>\n",
       "    </tr>\n",
       "    <tr>\n",
       "      <th>2</th>\n",
       "      <td>2023</td>\n",
       "      <td>2</td>\n",
       "      <td>28</td>\n",
       "      <td>United Kingdom</td>\n",
       "    </tr>\n",
       "    <tr>\n",
       "      <th>3</th>\n",
       "      <td>2022</td>\n",
       "      <td>7</td>\n",
       "      <td>10</td>\n",
       "      <td>Australia</td>\n",
       "    </tr>\n",
       "    <tr>\n",
       "      <th>4</th>\n",
       "      <td>2023</td>\n",
       "      <td>5</td>\n",
       "      <td>1</td>\n",
       "      <td>Germany</td>\n",
       "    </tr>\n",
       "    <tr>\n",
       "      <th>...</th>\n",
       "      <td>...</td>\n",
       "      <td>...</td>\n",
       "      <td>...</td>\n",
       "      <td>...</td>\n",
       "    </tr>\n",
       "    <tr>\n",
       "      <th>2495</th>\n",
       "      <td>2022</td>\n",
       "      <td>7</td>\n",
       "      <td>25</td>\n",
       "      <td>Spain</td>\n",
       "    </tr>\n",
       "    <tr>\n",
       "      <th>2496</th>\n",
       "      <td>2022</td>\n",
       "      <td>8</td>\n",
       "      <td>4</td>\n",
       "      <td>Spain</td>\n",
       "    </tr>\n",
       "    <tr>\n",
       "      <th>2497</th>\n",
       "      <td>2022</td>\n",
       "      <td>8</td>\n",
       "      <td>9</td>\n",
       "      <td>United States</td>\n",
       "    </tr>\n",
       "    <tr>\n",
       "      <th>2498</th>\n",
       "      <td>2022</td>\n",
       "      <td>8</td>\n",
       "      <td>12</td>\n",
       "      <td>Canada</td>\n",
       "    </tr>\n",
       "    <tr>\n",
       "      <th>2499</th>\n",
       "      <td>2022</td>\n",
       "      <td>8</td>\n",
       "      <td>13</td>\n",
       "      <td>United States</td>\n",
       "    </tr>\n",
       "  </tbody>\n",
       "</table>\n",
       "<p>2500 rows × 4 columns</p>\n",
       "</div>"
      ],
      "text/plain": [
       "      Year  Month  Day          Origin\n",
       "0     2022      1   15   United States\n",
       "1     2021      9    5          Canada\n",
       "2     2023      2   28  United Kingdom\n",
       "3     2022      7   10       Australia\n",
       "4     2023      5    1         Germany\n",
       "...    ...    ...  ...             ...\n",
       "2495  2022      7   25           Spain\n",
       "2496  2022      8    4           Spain\n",
       "2497  2022      8    9   United States\n",
       "2498  2022      8   12          Canada\n",
       "2499  2022      8   13   United States\n",
       "\n",
       "[2500 rows x 4 columns]"
      ]
     },
     "execution_count": 37,
     "metadata": {},
     "output_type": "execute_result"
    }
   ],
   "source": [
    "\n",
    "Cust_Join = pd.DataFrame({'Year':df['Join'].dt.year,\n",
    "                   'Month':df['Join'].dt.month,\n",
    "                    'Day':df['Join'].dt.day,\n",
    "                        'Origin': df['Country']})\n",
    "Cust_Join"
   ]
  },
  {
   "cell_type": "code",
   "execution_count": 38,
   "id": "42488f38",
   "metadata": {
    "execution": {
     "iopub.execute_input": "2024-10-07T23:17:15.575587Z",
     "iopub.status.busy": "2024-10-07T23:17:15.574808Z",
     "iopub.status.idle": "2024-10-07T23:17:15.842250Z",
     "shell.execute_reply": "2024-10-07T23:17:15.840940Z"
    },
    "papermill": {
     "duration": 0.2882,
     "end_time": "2024-10-07T23:17:15.844811",
     "exception": false,
     "start_time": "2024-10-07T23:17:15.556611",
     "status": "completed"
    },
    "tags": []
   },
   "outputs": [
    {
     "data": {
      "text/plain": [
       "<Axes: >"
      ]
     },
     "execution_count": 38,
     "metadata": {},
     "output_type": "execute_result"
    },
    {
     "data": {
      "image/png": "[encoded data removed]",
      "text/plain": [
       "<Figure size 640x480 with 1 Axes>"
      ]
     },
     "metadata": {},
     "output_type": "display_data"
    }
   ],
   "source": [
    "Cust_Join['Month'].hist(edgecolor='black', align='left') #bad example"
   ]
  },
  {
   "cell_type": "code",
   "execution_count": 39,
   "id": "7f2a68d1",
   "metadata": {
    "execution": {
     "iopub.execute_input": "2024-10-07T23:17:15.881453Z",
     "iopub.status.busy": "2024-10-07T23:17:15.880526Z",
     "iopub.status.idle": "2024-10-07T23:17:15.890982Z",
     "shell.execute_reply": "2024-10-07T23:17:15.889831Z"
    },
    "papermill": {
     "duration": 0.031522,
     "end_time": "2024-10-07T23:17:15.893514",
     "exception": false,
     "start_time": "2024-10-07T23:17:15.861992",
     "status": "completed"
    },
    "tags": []
   },
   "outputs": [
    {
     "data": {
      "text/plain": [
       "Month\n",
       "1      20\n",
       "2      12\n",
       "3      19\n",
       "4      24\n",
       "5      45\n",
       "6     298\n",
       "7     481\n",
       "8     382\n",
       "9     370\n",
       "10    524\n",
       "11    299\n",
       "12     26\n",
       "dtype: int64"
      ]
     },
     "execution_count": 39,
     "metadata": {},
     "output_type": "execute_result"
    }
   ],
   "source": [
    "month_join = Cust_Join.groupby('Month').size()\n",
    "month_join"
   ]
  },
  {
   "cell_type": "code",
   "execution_count": 40,
   "id": "bb9561f9",
   "metadata": {
    "execution": {
     "iopub.execute_input": "2024-10-07T23:17:15.930952Z",
     "iopub.status.busy": "2024-10-07T23:17:15.930503Z",
     "iopub.status.idle": "2024-10-07T23:17:16.171903Z",
     "shell.execute_reply": "2024-10-07T23:17:16.170395Z"
    },
    "papermill": {
     "duration": 0.263114,
     "end_time": "2024-10-07T23:17:16.174460",
     "exception": false,
     "start_time": "2024-10-07T23:17:15.911346",
     "status": "completed"
    },
    "tags": []
   },
   "outputs": [
    {
     "data": {
      "text/plain": [
       "(array([ 0,  1,  2,  3,  4,  5,  6,  7,  8,  9, 10, 11]),\n",
       " [Text(0, 0, '1'),\n",
       "  Text(1, 0, '2'),\n",
       "  Text(2, 0, '3'),\n",
       "  Text(3, 0, '4'),\n",
       "  Text(4, 0, '5'),\n",
       "  Text(5, 0, '6'),\n",
       "  Text(6, 0, '7'),\n",
       "  Text(7, 0, '8'),\n",
       "  Text(8, 0, '9'),\n",
       "  Text(9, 0, '10'),\n",
       "  Text(10, 0, '11'),\n",
       "  Text(11, 0, '12')])"
      ]
     },
     "execution_count": 40,
     "metadata": {},
     "output_type": "execute_result"
    },
    {
     "data": {
      "image/png": "[encoded data removed]",
      "text/plain": [
       "<Figure size 640x480 with 1 Axes>"
      ]
     },
     "metadata": {},
     "output_type": "display_data"
    }
   ],
   "source": [
    "month_join.plot(kind='bar', edgecolor='black') # good example\n",
    "plt.xticks(rotation=0)"
   ]
  },
  {
   "cell_type": "code",
   "execution_count": 41,
   "id": "b3de08b5",
   "metadata": {
    "execution": {
     "iopub.execute_input": "2024-10-07T23:17:16.211533Z",
     "iopub.status.busy": "2024-10-07T23:17:16.211137Z",
     "iopub.status.idle": "2024-10-07T23:17:16.483627Z",
     "shell.execute_reply": "2024-10-07T23:17:16.482475Z"
    },
    "papermill": {
     "duration": 0.293934,
     "end_time": "2024-10-07T23:17:16.486065",
     "exception": false,
     "start_time": "2024-10-07T23:17:16.192131",
     "status": "completed"
    },
    "tags": []
   },
   "outputs": [
    {
     "data": {
      "text/plain": [
       "<Axes: >"
      ]
     },
     "execution_count": 41,
     "metadata": {},
     "output_type": "execute_result"
    },
    {
     "data": {
      "image/png": "[encoded data removed]",
      "text/plain": [
       "<Figure size 640x480 with 1 Axes>"
      ]
     },
     "metadata": {},
     "output_type": "display_data"
    }
   ],
   "source": [
    "Cust_Join['Year'].hist() #bad example"
   ]
  },
  {
   "cell_type": "code",
   "execution_count": 42,
   "id": "0d6f250a",
   "metadata": {
    "execution": {
     "iopub.execute_input": "2024-10-07T23:17:16.527733Z",
     "iopub.status.busy": "2024-10-07T23:17:16.526436Z",
     "iopub.status.idle": "2024-10-07T23:17:16.760276Z",
     "shell.execute_reply": "2024-10-07T23:17:16.758885Z"
    },
    "papermill": {
     "duration": 0.258142,
     "end_time": "2024-10-07T23:17:16.762945",
     "exception": false,
     "start_time": "2024-10-07T23:17:16.504803",
     "status": "completed"
    },
    "tags": []
   },
   "outputs": [
    {
     "data": {
      "text/plain": [
       "(array([0, 1, 2]),\n",
       " [Text(0, 0, '2021'), Text(1, 0, '2022'), Text(2, 0, '2023')])"
      ]
     },
     "execution_count": 42,
     "metadata": {},
     "output_type": "execute_result"
    },
    {
     "data": {
      "image/png": "[encoded data removed]",
      "text/plain": [
       "<Figure size 640x480 with 1 Axes>"
      ]
     },
     "metadata": {},
     "output_type": "display_data"
    }
   ],
   "source": [
    "years = Cust_Join.groupby(\"Year\").size() # good example\n",
    "years.plot(kind='bar')\n",
    "\n",
    "plt.xticks(rotation=0)"
   ]
  },
  {
   "cell_type": "code",
   "execution_count": 43,
   "id": "1c02ce10",
   "metadata": {
    "execution": {
     "iopub.execute_input": "2024-10-07T23:17:16.809076Z",
     "iopub.status.busy": "2024-10-07T23:17:16.808622Z",
     "iopub.status.idle": "2024-10-07T23:17:16.817348Z",
     "shell.execute_reply": "2024-10-07T23:17:16.816176Z"
    },
    "papermill": {
     "duration": 0.032037,
     "end_time": "2024-10-07T23:17:16.819895",
     "exception": false,
     "start_time": "2024-10-07T23:17:16.787858",
     "status": "completed"
    },
    "tags": []
   },
   "outputs": [],
   "source": [
    "year21 = Cust_Join[Cust_Join[\"Year\"] == 2021]\n",
    "year22 = Cust_Join[Cust_Join[\"Year\"] == 2022]\n",
    "year23 = Cust_Join[Cust_Join[\"Year\"] == 2023]"
   ]
  },
  {
   "cell_type": "code",
   "execution_count": 44,
   "id": "49585490",
   "metadata": {
    "execution": {
     "iopub.execute_input": "2024-10-07T23:17:16.858876Z",
     "iopub.status.busy": "2024-10-07T23:17:16.857886Z",
     "iopub.status.idle": "2024-10-07T23:17:17.506808Z",
     "shell.execute_reply": "2024-10-07T23:17:17.505561Z"
    },
    "papermill": {
     "duration": 0.671119,
     "end_time": "2024-10-07T23:17:17.509286",
     "exception": false,
     "start_time": "2024-10-07T23:17:16.838167",
     "status": "completed"
    },
    "tags": []
   },
   "outputs": [
    {
     "data": {
      "image/png": "[encoded data removed]",
      "text/plain": [
       "<Figure size 640x480 with 1 Axes>"
      ]
     },
     "metadata": {},
     "output_type": "display_data"
    },
    {
     "name": "stdout",
     "output_type": "stream",
     "text": [
      "Month\n",
      "9     3\n",
      "10    3\n",
      "11    4\n",
      "12    4\n",
      "dtype: int64\n",
      "\n",
      "Total customer joined this year\n",
      "14\n"
     ]
    },
    {
     "data": {
      "image/png": "[encoded data removed]",
      "text/plain": [
       "<Figure size 640x480 with 1 Axes>"
      ]
     },
     "metadata": {},
     "output_type": "display_data"
    },
    {
     "name": "stdout",
     "output_type": "stream",
     "text": [
      "Month\n",
      "1       8\n",
      "2       5\n",
      "3      13\n",
      "4      19\n",
      "5      40\n",
      "6     295\n",
      "7     481\n",
      "8     382\n",
      "9     367\n",
      "10    521\n",
      "11    295\n",
      "12     22\n",
      "dtype: int64\n",
      "\n",
      "Total customer joined this year\n",
      "2448\n"
     ]
    },
    {
     "data": {
      "image/png": "[encoded data removed]",
      "text/plain": [
       "<Figure size 640x480 with 1 Axes>"
      ]
     },
     "metadata": {},
     "output_type": "display_data"
    },
    {
     "name": "stdout",
     "output_type": "stream",
     "text": [
      "Month\n",
      "1    12\n",
      "2     7\n",
      "3     6\n",
      "4     5\n",
      "5     5\n",
      "6     3\n",
      "dtype: int64\n",
      "\n",
      "Total customer joined this year\n",
      "38\n"
     ]
    }
   ],
   "source": [
    "year21Bar = year21.groupby('Month').size()\n",
    "\n",
    "year21Bar.plot(kind='bar')\n",
    "plt.xticks(rotation=0)\n",
    "plt.show()\n",
    "print(year21Bar)\n",
    "print()\n",
    "print(\"Total customer joined this year\")\n",
    "print(year21.value_counts().sum())\n",
    "\n",
    "year22Bar = year22.groupby('Month').size()\n",
    "year22Bar.plot(kind='bar')\n",
    "plt.xticks(rotation=0)\n",
    "plt.show()\n",
    "print(year22Bar)\n",
    "print()\n",
    "print(\"Total customer joined this year\")\n",
    "print(year22.value_counts().sum())\n",
    "\n",
    "year23Bar = year23.groupby('Month').size()\n",
    "year23Bar.plot(kind='bar')\n",
    "plt.xticks(rotation=0)\n",
    "plt.show()\n",
    "print(year23Bar)\n",
    "print()\n",
    "print(\"Total customer joined this year\")\n",
    "print(year23.value_counts().sum())"
   ]
  },
  {
   "cell_type": "code",
   "execution_count": 45,
   "id": "50a46e9a",
   "metadata": {
    "execution": {
     "iopub.execute_input": "2024-10-07T23:17:17.549234Z",
     "iopub.status.busy": "2024-10-07T23:17:17.548820Z",
     "iopub.status.idle": "2024-10-07T23:17:17.563676Z",
     "shell.execute_reply": "2024-10-07T23:17:17.562603Z"
    },
    "papermill": {
     "duration": 0.037685,
     "end_time": "2024-10-07T23:17:17.566147",
     "exception": false,
     "start_time": "2024-10-07T23:17:17.528462",
     "status": "completed"
    },
    "tags": []
   },
   "outputs": [
    {
     "data": {
      "text/html": [
       "<div>\n",
       "<style scoped>\n",
       "    .dataframe tbody tr th:only-of-type {\n",
       "        vertical-align: middle;\n",
       "    }\n",
       "\n",
       "    .dataframe tbody tr th {\n",
       "        vertical-align: top;\n",
       "    }\n",
       "\n",
       "    .dataframe thead th {\n",
       "        text-align: right;\n",
       "    }\n",
       "</style>\n",
       "<table border=\"1\" class=\"dataframe\">\n",
       "  <thead>\n",
       "    <tr style=\"text-align: right;\">\n",
       "      <th></th>\n",
       "      <th>User ID</th>\n",
       "      <th>Plan_Dur</th>\n",
       "      <th>Sub_Type</th>\n",
       "      <th>Mon_Rev</th>\n",
       "      <th>Join</th>\n",
       "      <th>Last Payment Date</th>\n",
       "      <th>Country</th>\n",
       "      <th>Age</th>\n",
       "      <th>Gender</th>\n",
       "      <th>Device</th>\n",
       "    </tr>\n",
       "  </thead>\n",
       "  <tbody>\n",
       "    <tr>\n",
       "      <th>0</th>\n",
       "      <td>1</td>\n",
       "      <td>1 Month</td>\n",
       "      <td>Basic</td>\n",
       "      <td>10</td>\n",
       "      <td>2022-01-15</td>\n",
       "      <td>10-06-23</td>\n",
       "      <td>United States</td>\n",
       "      <td>28</td>\n",
       "      <td>Male</td>\n",
       "      <td>Smartphone</td>\n",
       "    </tr>\n",
       "    <tr>\n",
       "      <th>1</th>\n",
       "      <td>2</td>\n",
       "      <td>1 Month</td>\n",
       "      <td>Premium</td>\n",
       "      <td>15</td>\n",
       "      <td>2021-09-05</td>\n",
       "      <td>22-06-23</td>\n",
       "      <td>Canada</td>\n",
       "      <td>35</td>\n",
       "      <td>Female</td>\n",
       "      <td>Tablet</td>\n",
       "    </tr>\n",
       "    <tr>\n",
       "      <th>2</th>\n",
       "      <td>3</td>\n",
       "      <td>1 Month</td>\n",
       "      <td>Standard</td>\n",
       "      <td>12</td>\n",
       "      <td>2023-02-28</td>\n",
       "      <td>27-06-23</td>\n",
       "      <td>United Kingdom</td>\n",
       "      <td>42</td>\n",
       "      <td>Male</td>\n",
       "      <td>Smart TV</td>\n",
       "    </tr>\n",
       "    <tr>\n",
       "      <th>3</th>\n",
       "      <td>4</td>\n",
       "      <td>1 Month</td>\n",
       "      <td>Standard</td>\n",
       "      <td>12</td>\n",
       "      <td>2022-07-10</td>\n",
       "      <td>26-06-23</td>\n",
       "      <td>Australia</td>\n",
       "      <td>51</td>\n",
       "      <td>Female</td>\n",
       "      <td>Laptop</td>\n",
       "    </tr>\n",
       "    <tr>\n",
       "      <th>4</th>\n",
       "      <td>5</td>\n",
       "      <td>1 Month</td>\n",
       "      <td>Basic</td>\n",
       "      <td>10</td>\n",
       "      <td>2023-05-01</td>\n",
       "      <td>28-06-23</td>\n",
       "      <td>Germany</td>\n",
       "      <td>33</td>\n",
       "      <td>Male</td>\n",
       "      <td>Smartphone</td>\n",
       "    </tr>\n",
       "  </tbody>\n",
       "</table>\n",
       "</div>"
      ],
      "text/plain": [
       "   User ID Plan_Dur  Sub_Type  Mon_Rev       Join Last Payment Date  \\\n",
       "0        1  1 Month     Basic       10 2022-01-15          10-06-23   \n",
       "1        2  1 Month   Premium       15 2021-09-05          22-06-23   \n",
       "2        3  1 Month  Standard       12 2023-02-28          27-06-23   \n",
       "3        4  1 Month  Standard       12 2022-07-10          26-06-23   \n",
       "4        5  1 Month     Basic       10 2023-05-01          28-06-23   \n",
       "\n",
       "          Country  Age  Gender      Device  \n",
       "0   United States   28    Male  Smartphone  \n",
       "1          Canada   35  Female      Tablet  \n",
       "2  United Kingdom   42    Male    Smart TV  \n",
       "3       Australia   51  Female      Laptop  \n",
       "4         Germany   33    Male  Smartphone  "
      ]
     },
     "execution_count": 45,
     "metadata": {},
     "output_type": "execute_result"
    }
   ],
   "source": [
    "df.head()"
   ]
  },
  {
   "cell_type": "code",
   "execution_count": 46,
   "id": "bba7a5f1",
   "metadata": {
    "execution": {
     "iopub.execute_input": "2024-10-07T23:17:17.608720Z",
     "iopub.status.busy": "2024-10-07T23:17:17.608287Z",
     "iopub.status.idle": "2024-10-07T23:17:17.618010Z",
     "shell.execute_reply": "2024-10-07T23:17:17.616839Z"
    },
    "papermill": {
     "duration": 0.034058,
     "end_time": "2024-10-07T23:17:17.620467",
     "exception": false,
     "start_time": "2024-10-07T23:17:17.586409",
     "status": "completed"
    },
    "tags": []
   },
   "outputs": [
    {
     "data": {
      "text/plain": [
       "Index(['User ID', 'Plan_Dur', 'Sub_Type', 'Mon_Rev', 'Join', 'Pay_date',\n",
       "       'Country', 'Age', 'Gender', 'Device'],\n",
       "      dtype='object')"
      ]
     },
     "execution_count": 46,
     "metadata": {},
     "output_type": "execute_result"
    }
   ],
   "source": [
    "df = df.rename(columns={'Last Payment Date':'Pay_date'})\n",
    "df.columns"
   ]
  },
  {
   "cell_type": "code",
   "execution_count": 47,
   "id": "676df73f",
   "metadata": {
    "execution": {
     "iopub.execute_input": "2024-10-07T23:17:17.661873Z",
     "iopub.status.busy": "2024-10-07T23:17:17.660805Z",
     "iopub.status.idle": "2024-10-07T23:17:17.671705Z",
     "shell.execute_reply": "2024-10-07T23:17:17.670527Z"
    },
    "papermill": {
     "duration": 0.034395,
     "end_time": "2024-10-07T23:17:17.674135",
     "exception": false,
     "start_time": "2024-10-07T23:17:17.639740",
     "status": "completed"
    },
    "tags": []
   },
   "outputs": [],
   "source": [
    "df['Pay_date'] = pd.to_datetime(df['Pay_date'], format = '%d-%m-%y')\n",
    "PayDate = pd.DataFrame({'Year': df['Pay_date'].dt.year,\n",
    "                        'Month': df['Pay_date'].dt.month,\n",
    "                        'Day':df['Pay_date'].dt.day,\n",
    "                       'Origin':df['Country']})"
   ]
  },
  {
   "cell_type": "code",
   "execution_count": null,
   "id": "071f925e",
   "metadata": {
    "papermill": {
     "duration": 0.019621,
     "end_time": "2024-10-07T23:17:17.713647",
     "exception": false,
     "start_time": "2024-10-07T23:17:17.694026",
     "status": "completed"
    },
    "tags": []
   },
   "outputs": [],
   "source": []
  }
 ],
 "metadata": {
  "kaggle": {
   "accelerator": "none",
   "dataSources": [
    {
     "datasetId": 3456799,
     "sourceId": 8452525,
     "sourceType": "datasetVersion"
    }
   ],
   "dockerImageVersionId": 30786,
   "isGpuEnabled": false,
   "isInternetEnabled": false,
   "language": "python",
   "sourceType": "notebook"
  },
  "kernelspec": {
   "display_name": "Python 3",
   "language": "python",
   "name": "python3"
  },
  "language_info": {
   "codemirror_mode": {
    "name": "ipython",
    "version": 3
   },
   "file_extension": ".py",
   "mimetype": "text/x-python",
   "name": "python",
   "nbconvert_exporter": "python",
   "pygments_lexer": "ipython3",
   "version": "3.10.14"
  },
  "papermill": {
   "default_parameters": {},
   "duration": 10.269283,
   "end_time": "2024-10-07T23:17:18.254892",
   "environment_variables": {},
   "exception": null,
   "input_path": "__notebook__.ipynb",
   "output_path": "__notebook__.ipynb",
   "parameters": {},
   "start_time": "2024-10-07T23:17:07.985609",
   "version": "2.6.0"
  }
 },
 "nbformat": 4,
 "nbformat_minor": 5
}
