{
 "cells": [
  {
   "cell_type": "code",
   "execution_count": 1,
   "id": "af2acb38",
   "metadata": {
    "_cell_guid": "b1076dfc-b9ad-4769-8c92-a6c4dae69d19",
    "_uuid": "8f2839f25d086af736a60e9eeb907d3b93b6e0e5",
    "execution": {
     "iopub.execute_input": "2024-09-09T19:37:02.775476Z",
     "iopub.status.busy": "2024-09-09T19:37:02.774935Z",
     "iopub.status.idle": "2024-09-09T19:37:03.268195Z",
     "shell.execute_reply": "2024-09-09T19:37:03.266335Z"
    },
    "papermill": {
     "duration": 0.503094,
     "end_time": "2024-09-09T19:37:03.271163",
     "exception": false,
     "start_time": "2024-09-09T19:37:02.768069",
     "status": "completed"
    },
    "tags": []
   },
   "outputs": [
    {
     "name": "stdout",
     "output_type": "stream",
     "text": [
      "/kaggle/input/netflix-userbase-dataset/Netflix Userbase.csv\n"
     ]
    }
   ],
   "source": [
    "# This Python 3 environment comes with many helpful analytics libraries installed\n",
    "# It is defined by the kaggle/python Docker image: https://github.com/kaggle/docker-python\n",
    "# For example, here's several helpful packages to load\n",
    "\n",
    "import numpy as np # linear algebra\n",
    "import pandas as pd # data processing, CSV file I/O (e.g. pd.read_csv)\n",
    "\n",
    "# Input data files are available in the read-only \"../input/\" directory\n",
    "# For example, running this (by clicking run or pressing Shift+Enter) will list all files under the input directory\n",
    "\n",
    "import os\n",
    "for dirname, _, filenames in os.walk('/kaggle/input'):\n",
    "    for filename in filenames:\n",
    "        print(os.path.join(dirname, filename))\n",
    "\n",
    "# You can write up to 20GB to the current directory (/kaggle/working/) that gets preserved as output when you create a version using \"Save & Run All\" \n",
    "# You can also write temporary files to /kaggle/temp/, but they won't be saved outside of the current session"
   ]
  },
  {
   "cell_type": "code",
   "execution_count": 2,
   "id": "cdad1a26",
   "metadata": {
    "execution": {
     "iopub.execute_input": "2024-09-09T19:37:03.281880Z",
     "iopub.status.busy": "2024-09-09T19:37:03.281304Z",
     "iopub.status.idle": "2024-09-09T19:37:05.297623Z",
     "shell.execute_reply": "2024-09-09T19:37:05.296292Z"
    },
    "papermill": {
     "duration": 2.024711,
     "end_time": "2024-09-09T19:37:05.300503",
     "exception": false,
     "start_time": "2024-09-09T19:37:03.275792",
     "status": "completed"
    },
    "tags": []
   },
   "outputs": [
    {
     "data": {
      "text/html": [
       "<div>\n",
       "<style scoped>\n",
       "    .dataframe tbody tr th:only-of-type {\n",
       "        vertical-align: middle;\n",
       "    }\n",
       "\n",
       "    .dataframe tbody tr th {\n",
       "        vertical-align: top;\n",
       "    }\n",
       "\n",
       "    .dataframe thead th {\n",
       "        text-align: right;\n",
       "    }\n",
       "</style>\n",
       "<table border=\"1\" class=\"dataframe\">\n",
       "  <thead>\n",
       "    <tr style=\"text-align: right;\">\n",
       "      <th></th>\n",
       "      <th>User ID</th>\n",
       "      <th>Subscription Type</th>\n",
       "      <th>Monthly Revenue</th>\n",
       "      <th>Join Date</th>\n",
       "      <th>Last Payment Date</th>\n",
       "      <th>Country</th>\n",
       "      <th>Age</th>\n",
       "      <th>Gender</th>\n",
       "      <th>Device</th>\n",
       "      <th>Plan Duration</th>\n",
       "    </tr>\n",
       "  </thead>\n",
       "  <tbody>\n",
       "    <tr>\n",
       "      <th>0</th>\n",
       "      <td>1</td>\n",
       "      <td>Basic</td>\n",
       "      <td>10</td>\n",
       "      <td>15-01-22</td>\n",
       "      <td>10-06-23</td>\n",
       "      <td>United States</td>\n",
       "      <td>28</td>\n",
       "      <td>Male</td>\n",
       "      <td>Smartphone</td>\n",
       "      <td>1 Month</td>\n",
       "    </tr>\n",
       "    <tr>\n",
       "      <th>1</th>\n",
       "      <td>2</td>\n",
       "      <td>Premium</td>\n",
       "      <td>15</td>\n",
       "      <td>05-09-21</td>\n",
       "      <td>22-06-23</td>\n",
       "      <td>Canada</td>\n",
       "      <td>35</td>\n",
       "      <td>Female</td>\n",
       "      <td>Tablet</td>\n",
       "      <td>1 Month</td>\n",
       "    </tr>\n",
       "    <tr>\n",
       "      <th>2</th>\n",
       "      <td>3</td>\n",
       "      <td>Standard</td>\n",
       "      <td>12</td>\n",
       "      <td>28-02-23</td>\n",
       "      <td>27-06-23</td>\n",
       "      <td>United Kingdom</td>\n",
       "      <td>42</td>\n",
       "      <td>Male</td>\n",
       "      <td>Smart TV</td>\n",
       "      <td>1 Month</td>\n",
       "    </tr>\n",
       "    <tr>\n",
       "      <th>3</th>\n",
       "      <td>4</td>\n",
       "      <td>Standard</td>\n",
       "      <td>12</td>\n",
       "      <td>10-07-22</td>\n",
       "      <td>26-06-23</td>\n",
       "      <td>Australia</td>\n",
       "      <td>51</td>\n",
       "      <td>Female</td>\n",
       "      <td>Laptop</td>\n",
       "      <td>1 Month</td>\n",
       "    </tr>\n",
       "    <tr>\n",
       "      <th>4</th>\n",
       "      <td>5</td>\n",
       "      <td>Basic</td>\n",
       "      <td>10</td>\n",
       "      <td>01-05-23</td>\n",
       "      <td>28-06-23</td>\n",
       "      <td>Germany</td>\n",
       "      <td>33</td>\n",
       "      <td>Male</td>\n",
       "      <td>Smartphone</td>\n",
       "      <td>1 Month</td>\n",
       "    </tr>\n",
       "    <tr>\n",
       "      <th>...</th>\n",
       "      <td>...</td>\n",
       "      <td>...</td>\n",
       "      <td>...</td>\n",
       "      <td>...</td>\n",
       "      <td>...</td>\n",
       "      <td>...</td>\n",
       "      <td>...</td>\n",
       "      <td>...</td>\n",
       "      <td>...</td>\n",
       "      <td>...</td>\n",
       "    </tr>\n",
       "    <tr>\n",
       "      <th>2495</th>\n",
       "      <td>2496</td>\n",
       "      <td>Premium</td>\n",
       "      <td>14</td>\n",
       "      <td>25-07-22</td>\n",
       "      <td>12-07-23</td>\n",
       "      <td>Spain</td>\n",
       "      <td>28</td>\n",
       "      <td>Female</td>\n",
       "      <td>Smart TV</td>\n",
       "      <td>1 Month</td>\n",
       "    </tr>\n",
       "    <tr>\n",
       "      <th>2496</th>\n",
       "      <td>2497</td>\n",
       "      <td>Basic</td>\n",
       "      <td>15</td>\n",
       "      <td>04-08-22</td>\n",
       "      <td>14-07-23</td>\n",
       "      <td>Spain</td>\n",
       "      <td>33</td>\n",
       "      <td>Female</td>\n",
       "      <td>Smart TV</td>\n",
       "      <td>1 Month</td>\n",
       "    </tr>\n",
       "    <tr>\n",
       "      <th>2497</th>\n",
       "      <td>2498</td>\n",
       "      <td>Standard</td>\n",
       "      <td>12</td>\n",
       "      <td>09-08-22</td>\n",
       "      <td>15-07-23</td>\n",
       "      <td>United States</td>\n",
       "      <td>38</td>\n",
       "      <td>Male</td>\n",
       "      <td>Laptop</td>\n",
       "      <td>1 Month</td>\n",
       "    </tr>\n",
       "    <tr>\n",
       "      <th>2498</th>\n",
       "      <td>2499</td>\n",
       "      <td>Standard</td>\n",
       "      <td>13</td>\n",
       "      <td>12-08-22</td>\n",
       "      <td>12-07-23</td>\n",
       "      <td>Canada</td>\n",
       "      <td>48</td>\n",
       "      <td>Female</td>\n",
       "      <td>Tablet</td>\n",
       "      <td>1 Month</td>\n",
       "    </tr>\n",
       "    <tr>\n",
       "      <th>2499</th>\n",
       "      <td>2500</td>\n",
       "      <td>Basic</td>\n",
       "      <td>15</td>\n",
       "      <td>13-08-22</td>\n",
       "      <td>12-07-23</td>\n",
       "      <td>United States</td>\n",
       "      <td>35</td>\n",
       "      <td>Female</td>\n",
       "      <td>Smart TV</td>\n",
       "      <td>1 Month</td>\n",
       "    </tr>\n",
       "  </tbody>\n",
       "</table>\n",
       "<p>2500 rows × 10 columns</p>\n",
       "</div>"
      ],
      "text/plain": [
       "      User ID Subscription Type  Monthly Revenue Join Date Last Payment Date  \\\n",
       "0           1             Basic               10  15-01-22          10-06-23   \n",
       "1           2           Premium               15  05-09-21          22-06-23   \n",
       "2           3          Standard               12  28-02-23          27-06-23   \n",
       "3           4          Standard               12  10-07-22          26-06-23   \n",
       "4           5             Basic               10  01-05-23          28-06-23   \n",
       "...       ...               ...              ...       ...               ...   \n",
       "2495     2496           Premium               14  25-07-22          12-07-23   \n",
       "2496     2497             Basic               15  04-08-22          14-07-23   \n",
       "2497     2498          Standard               12  09-08-22          15-07-23   \n",
       "2498     2499          Standard               13  12-08-22          12-07-23   \n",
       "2499     2500             Basic               15  13-08-22          12-07-23   \n",
       "\n",
       "             Country  Age  Gender      Device Plan Duration  \n",
       "0      United States   28    Male  Smartphone       1 Month  \n",
       "1             Canada   35  Female      Tablet       1 Month  \n",
       "2     United Kingdom   42    Male    Smart TV       1 Month  \n",
       "3          Australia   51  Female      Laptop       1 Month  \n",
       "4            Germany   33    Male  Smartphone       1 Month  \n",
       "...              ...  ...     ...         ...           ...  \n",
       "2495           Spain   28  Female    Smart TV       1 Month  \n",
       "2496           Spain   33  Female    Smart TV       1 Month  \n",
       "2497   United States   38    Male      Laptop       1 Month  \n",
       "2498          Canada   48  Female      Tablet       1 Month  \n",
       "2499   United States   35  Female    Smart TV       1 Month  \n",
       "\n",
       "[2500 rows x 10 columns]"
      ]
     },
     "execution_count": 2,
     "metadata": {},
     "output_type": "execute_result"
    }
   ],
   "source": [
    "import pandas as pd\n",
    "import matplotlib.pyplot as plt\n",
    "import seaborn as sns\n",
    "netflix = pd.read_csv(\"/kaggle/input/netflix-userbase-dataset/Netflix Userbase.csv\")\n",
    "\n",
    "netflix"
   ]
  },
  {
   "cell_type": "code",
   "execution_count": 3,
   "id": "da7f2450",
   "metadata": {
    "execution": {
     "iopub.execute_input": "2024-09-09T19:37:05.311568Z",
     "iopub.status.busy": "2024-09-09T19:37:05.311060Z",
     "iopub.status.idle": "2024-09-09T19:37:05.316846Z",
     "shell.execute_reply": "2024-09-09T19:37:05.315606Z"
    },
    "papermill": {
     "duration": 0.014567,
     "end_time": "2024-09-09T19:37:05.319515",
     "exception": false,
     "start_time": "2024-09-09T19:37:05.304948",
     "status": "completed"
    },
    "tags": []
   },
   "outputs": [],
   "source": [
    "details = netflix.describe\n",
    "\n"
   ]
  },
  {
   "cell_type": "code",
   "execution_count": 4,
   "id": "a6d19011",
   "metadata": {
    "execution": {
     "iopub.execute_input": "2024-09-09T19:37:05.330845Z",
     "iopub.status.busy": "2024-09-09T19:37:05.329636Z",
     "iopub.status.idle": "2024-09-09T19:37:05.349339Z",
     "shell.execute_reply": "2024-09-09T19:37:05.347515Z"
    },
    "papermill": {
     "duration": 0.02854,
     "end_time": "2024-09-09T19:37:05.352348",
     "exception": false,
     "start_time": "2024-09-09T19:37:05.323808",
     "status": "completed"
    },
    "tags": []
   },
   "outputs": [
    {
     "name": "stdout",
     "output_type": "stream",
     "text": [
      "Age\n",
      "39    116\n",
      "30    116\n",
      "28    115\n",
      "31    115\n",
      "41    114\n",
      "47    111\n",
      "37    107\n",
      "35    105\n",
      "29    104\n",
      "40    103\n",
      "42    102\n",
      "48    101\n",
      "46     99\n",
      "36     99\n",
      "49     97\n",
      "43     94\n",
      "33     93\n",
      "51     93\n",
      "32     92\n",
      "45     89\n",
      "38     89\n",
      "34     88\n",
      "27     87\n",
      "44     86\n",
      "50     84\n",
      "26      1\n",
      "Name: count, dtype: int64\n",
      "Device\n",
      "Laptop        636\n",
      "Tablet        633\n",
      "Smartphone    621\n",
      "Smart TV      610\n",
      "Name: count, dtype: int64\n"
     ]
    }
   ],
   "source": [
    "Age = netflix.Age.value_counts()\n",
    "print(Age)\n",
    "Devices = netflix.Device.value_counts()\n",
    "print(Devices)"
   ]
  },
  {
   "cell_type": "code",
   "execution_count": 5,
   "id": "41f5e51c",
   "metadata": {
    "execution": {
     "iopub.execute_input": "2024-09-09T19:37:05.363420Z",
     "iopub.status.busy": "2024-09-09T19:37:05.362539Z",
     "iopub.status.idle": "2024-09-09T19:37:05.688860Z",
     "shell.execute_reply": "2024-09-09T19:37:05.687521Z"
    },
    "papermill": {
     "duration": 0.335,
     "end_time": "2024-09-09T19:37:05.691703",
     "exception": false,
     "start_time": "2024-09-09T19:37:05.356703",
     "status": "completed"
    },
    "tags": []
   },
   "outputs": [
    {
     "data": {
      "text/plain": [
       "(600.0, 640.0)"
      ]
     },
     "execution_count": 5,
     "metadata": {},
     "output_type": "execute_result"
    },
    {
     "data": {
      "image/png": "[encoded data removed]",
      "text/plain": [
       "<Figure size 600x400 with 1 Axes>"
      ]
     },
     "metadata": {},
     "output_type": "display_data"
    }
   ],
   "source": [
    "#Here is a visual display of the preferred device to use netflix on\n",
    "plt.figure(figsize=(6,4))\n",
    "sns.barplot(x=Devices.index, y=Devices.values)\n",
    "plt.xticks(rotation=45)\n",
    "plt.ylim(600, 640)"
   ]
  },
  {
   "cell_type": "code",
   "execution_count": 6,
   "id": "d10c4430",
   "metadata": {
    "execution": {
     "iopub.execute_input": "2024-09-09T19:37:05.703937Z",
     "iopub.status.busy": "2024-09-09T19:37:05.703375Z",
     "iopub.status.idle": "2024-09-09T19:37:05.966535Z",
     "shell.execute_reply": "2024-09-09T19:37:05.965024Z"
    },
    "papermill": {
     "duration": 0.272574,
     "end_time": "2024-09-09T19:37:05.969240",
     "exception": false,
     "start_time": "2024-09-09T19:37:05.696666",
     "status": "completed"
    },
    "tags": []
   },
   "outputs": [
    {
     "data": {
      "text/plain": [
       "(700.0, 1000.0)"
      ]
     },
     "execution_count": 6,
     "metadata": {},
     "output_type": "execute_result"
    },
    {
     "data": {
      "image/png": "[encoded data removed]",
      "text/plain": [
       "<Figure size 600x400 with 1 Axes>"
      ]
     },
     "metadata": {},
     "output_type": "display_data"
    }
   ],
   "source": [
    "\n",
    "amount_plans = netflix['Subscription Type'].value_counts()\n",
    "plt.figure(figsize=(6,4))\n",
    "sns.barplot(x=amount_plans.index,y=amount_plans.values)\n",
    "plt.ylim(700,1000)\n"
   ]
  },
  {
   "cell_type": "code",
   "execution_count": null,
   "id": "0ecc2fd2",
   "metadata": {
    "papermill": {
     "duration": 0.005158,
     "end_time": "2024-09-09T19:37:05.980047",
     "exception": false,
     "start_time": "2024-09-09T19:37:05.974889",
     "status": "completed"
    },
    "tags": []
   },
   "outputs": [],
   "source": []
  }
 ],
 "metadata": {
  "kaggle": {
   "accelerator": "none",
   "dataSources": [
    {
     "datasetId": 3456799,
     "sourceId": 8452525,
     "sourceType": "datasetVersion"
    }
   ],
   "dockerImageVersionId": 30761,
   "isGpuEnabled": false,
   "isInternetEnabled": false,
   "language": "python",
   "sourceType": "notebook"
  },
  "kernelspec": {
   "display_name": "Python 3",
   "language": "python",
   "name": "python3"
  },
  "language_info": {
   "codemirror_mode": {
    "name": "ipython",
    "version": 3
   },
   "file_extension": ".py",
   "mimetype": "text/x-python",
   "name": "python",
   "nbconvert_exporter": "python",
   "pygments_lexer": "ipython3",
   "version": "3.10.14"
  },
  "papermill": {
   "default_parameters": {},
   "duration": 7.557112,
   "end_time": "2024-09-09T19:37:06.911055",
   "environment_variables": {},
   "exception": null,
   "input_path": "__notebook__.ipynb",
   "output_path": "__notebook__.ipynb",
   "parameters": {},
   "start_time": "2024-09-09T19:36:59.353943",
   "version": "2.6.0"
  }
 },
 "nbformat": 4,
 "nbformat_minor": 5
}
